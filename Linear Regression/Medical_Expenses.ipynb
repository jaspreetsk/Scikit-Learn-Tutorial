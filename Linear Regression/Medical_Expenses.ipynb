{
 "cells": [
  {
   "cell_type": "markdown",
   "id": "c125db7f",
   "metadata": {},
   "source": [
    "## Downloading the Data\n",
    "\n",
    "To begin, let's download the data using the `urlretrieve` function from `urllib.request`."
   ]
  },
  {
   "cell_type": "code",
   "execution_count": null,
   "id": "49f4c904",
   "metadata": {},
   "outputs": [],
   "source": [
    "medical_charges_url = 'https://raw.githubusercontent.com/JovianML/opendatasets/master/data/medical-charges.csv'"
   ]
  },
  {
   "cell_type": "code",
   "execution_count": null,
   "id": "9731b7a0",
   "metadata": {},
   "outputs": [],
   "source": [
    "from urllib.request import urlretrieve"
   ]
  },
  {
   "cell_type": "code",
   "execution_count": null,
   "id": "b23524f3",
   "metadata": {},
   "outputs": [],
   "source": [
    "urlretrieve(medical_charges_url, 'medical.csv')"
   ]
  },
  {
   "cell_type": "code",
   "execution_count": null,
   "id": "03e98b75",
   "metadata": {},
   "outputs": [],
   "source": [
    "import pandas as pd"
   ]
  },
  {
   "cell_type": "code",
   "execution_count": null,
   "id": "fadafebf",
   "metadata": {},
   "outputs": [],
   "source": [
    "medical_df = pd.read_csv('medical.csv')"
   ]
  },
  {
   "cell_type": "code",
   "execution_count": null,
   "id": "8ce4af21",
   "metadata": {},
   "outputs": [],
   "source": [
    "medical_df"
   ]
  },
  {
   "cell_type": "markdown",
   "id": "ff77be9e",
   "metadata": {},
   "source": [
    "The dataset contains 1338 rows and 7 columns. Each row of the dataset contains information about one customer. \n",
    "\n",
    "Our objective is to find a way to estimate the value in the \"charges\" column using the values in the other columns. If we can do so for the historical data, then we should able to estimate charges for new customers too, simply by asking for information like their age, sex, BMI, no. of children, smoking habits and region.\n",
    "\n",
    "Let's check the data type for each column."
   ]
  },
  {
   "cell_type": "code",
   "execution_count": null,
   "id": "d08a1893",
   "metadata": {},
   "outputs": [],
   "source": [
    "medical_df.info()"
   ]
  },
  {
   "cell_type": "code",
   "execution_count": null,
   "id": "37bfc7ae",
   "metadata": {},
   "outputs": [],
   "source": [
    "medical_df.describe()"
   ]
  },
  {
   "cell_type": "markdown",
   "id": "28e9c43e",
   "metadata": {},
   "source": [
    "The ranges of values in the numerical columns seem reasonable too (no negative ages!), so we may not have to do much data cleaning or correction. The \"charges\" column seems to be significantly skewed however, as the median (50 percentile) is much lower than the maximum value."
   ]
  },
  {
   "cell_type": "code",
   "execution_count": null,
   "id": "f1926095",
   "metadata": {},
   "outputs": [],
   "source": [
    "%pip install plotly matplotlib seaborn "
   ]
  },
  {
   "cell_type": "code",
   "execution_count": null,
   "id": "794ed6ef",
   "metadata": {},
   "outputs": [],
   "source": [
    "import plotly.express as px\n",
    "import matplotlib\n",
    "import matplotlib.pyplot as plt\n",
    "import seaborn as sns\n",
    "%matplotlib inline"
   ]
  },
  {
   "cell_type": "code",
   "execution_count": null,
   "id": "168ca8e2",
   "metadata": {},
   "outputs": [],
   "source": [
    "sns.set_style('darkgrid')\n",
    "matplotlib.rcParams['font.size'] = 14\n",
    "matplotlib.rcParams['figure.figsize'] = (10, 6)\n",
    "matplotlib.rcParams['figure.facecolor'] = '#00000000'"
   ]
  },
  {
   "cell_type": "markdown",
   "id": "fa723560",
   "metadata": {},
   "source": [
    "### Age\n",
    "\n",
    "Age is a numeric column. The minimum age in the dataset is 18 and the maximum age is 64. Thus, we can visualize the distribution of age using a histogram with 47 bins (one for each year) and a box plot. We'll use plotly to make the chart interactive, but you can create similar charts using Seaborn."
   ]
  },
  {
   "cell_type": "code",
   "execution_count": null,
   "id": "9e3f9c88",
   "metadata": {},
   "outputs": [],
   "source": [
    "medical_df.age.describe()"
   ]
  },
  {
   "cell_type": "code",
   "execution_count": null,
   "id": "1ddc3b91",
   "metadata": {},
   "outputs": [],
   "source": [
    "fig = px.histogram(medical_df, \n",
    "                   x='age', \n",
    "                   marginal='box', \n",
    "                   nbins=47, \n",
    "                   title='Distribution of Age')\n",
    "fig.update_layout(bargap=0.1)\n",
    "fig.show()"
   ]
  },
  {
   "cell_type": "markdown",
   "id": "9748e548",
   "metadata": {},
   "source": [
    "The distribution of ages in the dataset is almost uniform, with 20-30 customers at every age, except for the ages 18 and 19, which seem to have over twice as many customers as other ages. The uniform distribution might arise from the fact that there isn't a big variation in the [number of people of any given age](https://www.statista.com/statistics/241488/population-of-the-us-by-sex-and-age/) (between 18 & 64) in the USA."
   ]
  },
  {
   "cell_type": "markdown",
   "id": "ee8800f2",
   "metadata": {},
   "source": [
    "### Body Mass Index\n",
    "\n",
    "Let's look at the distribution of BMI (Body Mass Index) of customers, using a histogram and box plot."
   ]
  },
  {
   "cell_type": "code",
   "execution_count": null,
   "id": "4cfc11fc",
   "metadata": {},
   "outputs": [],
   "source": [
    "fig = px.histogram(medical_df, \n",
    "                   x='bmi', \n",
    "                   marginal='box', \n",
    "                   color_discrete_sequence=['red'], \n",
    "                   title='Distribution of BMI (Body Mass Index)')\n",
    "fig.update_layout(bargap=0.1)\n",
    "fig.show()"
   ]
  },
  {
   "cell_type": "markdown",
   "id": "dba29c7b",
   "metadata": {},
   "source": [
    "The measurements of body mass index seem to form a [Gaussian distribution](https://en.wikipedia.org/wiki/Normal_distribution) centered around the value 30, with a few outliers towards the right. Here's how BMI values can be interpreted ([source](https://study.com/academy/lesson/what-is-bmi-definition-formula-calculation.html)):\n",
    "\n",
    "![](https://i.imgur.com/lh23OiY.jpg)"
   ]
  },
  {
   "cell_type": "markdown",
   "id": "e2fab3dd",
   "metadata": {},
   "source": [
    "### Charges\n",
    "\n",
    "Let's visualize the distribution of \"charges\" i.e. the annual medical charges for customers. This is the column we're trying to predict. Let's also use the categorical column \"smoker\" to distinguish the charges for smokers and non-smokers."
   ]
  },
  {
   "cell_type": "code",
   "execution_count": null,
   "id": "a8cfa26c",
   "metadata": {},
   "outputs": [],
   "source": [
    "fig = px.histogram(medical_df, \n",
    "                   x='charges', \n",
    "                   marginal='box', \n",
    "                   color='smoker', \n",
    "                   color_discrete_sequence=['green', 'grey'], \n",
    "                   title='Annual Medical Charges')\n",
    "fig.update_layout(bargap=0.1)\n",
    "fig.show()"
   ]
  },
  {
   "cell_type": "markdown",
   "id": "e833b8b6",
   "metadata": {},
   "source": [
    "We can make the following observations from the above graph:\n",
    "\n",
    "* For most customers, the annual medical charges are under $10,000. Only a small fraction of customer have higher medical expenses, possibly due to accidents, major illnesses and genetic diseases. The distribution follows a \"power law\"\n",
    "* There is a significant difference in medical expenses between smokers and non-smokers. While the median for non-smokers is $7300, the median for smokers is close to $35,000.\n"
   ]
  },
  {
   "cell_type": "markdown",
   "id": "5ef5f45c",
   "metadata": {},
   "source": [
    "### Smoker\n",
    "\n",
    "Let's visualize the distribution of the \"smoker\" column (containing values \"yes\" and \"no\") using a histogram."
   ]
  },
  {
   "cell_type": "code",
   "execution_count": null,
   "id": "68743f7c",
   "metadata": {},
   "outputs": [],
   "source": [
    "medical_df.smoker.value_counts()"
   ]
  },
  {
   "cell_type": "code",
   "execution_count": null,
   "id": "ed9af332",
   "metadata": {},
   "outputs": [],
   "source": [
    "px.histogram(medical_df, x='smoker', color='sex', title='Smoker')"
   ]
  },
  {
   "cell_type": "markdown",
   "id": "b02b36db",
   "metadata": {},
   "source": [
    "It appears that 20% of customers have reported that they smoke.\n"
   ]
  },
  {
   "cell_type": "markdown",
   "id": "b8b78e11",
   "metadata": {},
   "source": [
    "Having looked at individual columns, we can now visualize the relationship between \"charges\" (the value we wish to predict) and other columns.\n",
    "\n",
    "### Age and Charges\n",
    "\n",
    "Let's visualize the relationship between \"age\" and \"charges\" using a scatter plot. Each point in the scatter plot represents one customer. We'll also use values in the \"smoker\" column to color the points."
   ]
  },
  {
   "cell_type": "code",
   "execution_count": null,
   "id": "592f9ef4",
   "metadata": {},
   "outputs": [],
   "source": [
    "fig = px.scatter(medical_df, \n",
    "                 x='age', \n",
    "                 y='charges', \n",
    "                 color='smoker', \n",
    "                 opacity=0.8, \n",
    "                 hover_data=['sex'], \n",
    "                 title='Age vs. Charges')\n",
    "fig.update_traces(marker_size=5)\n",
    "fig.show()"
   ]
  },
  {
   "cell_type": "markdown",
   "id": "f1c81a09",
   "metadata": {},
   "source": [
    "We can make the following observations from the above chart:\n",
    "\n",
    "* The general trend seems to be that medical charges increase with age, as we might expect. However, there is significant variation at every age, and it's clear that age alone cannot be used to accurately determine medical charges.\n",
    "\n",
    "\n",
    "* We can see three \"clusters\" of points, each of which seems to form a line with an increasing slope:\n",
    "\n",
    "     1. The first and the largest cluster consists primary of presumably \"healthy non-smokers\" who have relatively low medical charges compared to others\n",
    "     \n",
    "     2. The second cluster contains a mix of smokers and non-smokers. It's possible that these are actually two distinct but overlapping clusters: \"non-smokers with medical issues\" and \"smokers without major medical issues\".\n",
    "     \n",
    "     3. The final cluster consists exclusively of smokers, presumably smokers with major medical issues that are possibly related to or worsened by smoking.\n",
    "    "
   ]
  },
  {
   "cell_type": "markdown",
   "id": "c70e9f78",
   "metadata": {},
   "source": [
    "### BMI and Charges\n",
    "\n",
    "Let's visualize the relationship between BMI (body mass index) and charges using another scatter plot. Once again, we'll use the values from the \"smoker\" column to color the points."
   ]
  },
  {
   "cell_type": "code",
   "execution_count": null,
   "id": "a7555547",
   "metadata": {},
   "outputs": [],
   "source": [
    "fig = px.scatter(medical_df, \n",
    "                 x='bmi', \n",
    "                 y='charges', \n",
    "                 color='smoker', \n",
    "                 opacity=0.8, \n",
    "                 hover_data=['sex'], \n",
    "                 title='BMI vs. Charges')\n",
    "fig.update_traces(marker_size=5)\n",
    "fig.show()"
   ]
  },
  {
   "cell_type": "markdown",
   "id": "c842d0cd",
   "metadata": {},
   "source": [
    "It appears that for non-smokers, an increase in BMI doesn't seem to be related to an increase in medical charges. However, medical charges seem to be significantly higher for smokers with a BMI greater than 30."
   ]
  },
  {
   "cell_type": "code",
   "execution_count": null,
   "id": "dd032285",
   "metadata": {},
   "outputs": [],
   "source": [
    "px.violin(medical_df,x='children',y='charges')"
   ]
  },
  {
   "cell_type": "markdown",
   "id": "ecad97c1",
   "metadata": {},
   "source": [
    "### Correlation\n",
    "\n",
    "As you can tell from the analysis, the values in some columns are more closely related to the values in \"charges\" compared to other columns. E.g. \"age\" and \"charges\" seem to grow together, whereas \"bmi\" and \"charges\" don't.\n",
    "\n",
    "This relationship is often expressed numerically using a measure called the _correlation coefficient_, which can be computed using the `.corr` method of a Pandas series."
   ]
  },
  {
   "cell_type": "code",
   "execution_count": null,
   "id": "eb9402bf",
   "metadata": {},
   "outputs": [],
   "source": [
    "medical_df.charges.corr(medical_df.age)"
   ]
  },
  {
   "cell_type": "code",
   "execution_count": null,
   "id": "b1b61f77",
   "metadata": {},
   "outputs": [],
   "source": [
    "medical_df.charges.corr(medical_df.bmi)"
   ]
  },
  {
   "cell_type": "code",
   "execution_count": null,
   "id": "ae278ffa",
   "metadata": {},
   "outputs": [],
   "source": [
    "medical_df.charges.corr(medical_df.children)"
   ]
  },
  {
   "cell_type": "markdown",
   "id": "0774fd69",
   "metadata": {},
   "source": [
    "To compute the correlation for categorical columns, they must first be converted into numeric columns."
   ]
  },
  {
   "cell_type": "code",
   "execution_count": null,
   "id": "66b5c0db",
   "metadata": {},
   "outputs": [],
   "source": [
    "smoker_values = {'no': 0, 'yes': 1}\n",
    "smoker_numeric = medical_df.smoker.map(smoker_values)\n",
    "medical_df.charges.corr(smoker_numeric)"
   ]
  },
  {
   "cell_type": "markdown",
   "id": "6d19260a",
   "metadata": {},
   "source": [
    "\n",
    "\n",
    "\n",
    "Here's how correlation coefficients can be interpreted ([source](https://statisticsbyjim.com/basics/correlations)):\n",
    "\n",
    "* **Strength**: The greater the absolute value of the correlation coefficient, the stronger the relationship.\n",
    "\n",
    "    * The extreme values of -1 and 1 indicate a perfectly linear relationship where a change in one variable is accompanied by a perfectly consistent change in the other. For these relationships, all of the data points fall on a line. In practice, you won’t see either type of perfect relationship.\n",
    "\n",
    "    * A coefficient of zero represents no linear relationship. As one variable increases, there is no tendency in the other variable to either increase or decrease.\n",
    "    \n",
    "    * When the value is in-between 0 and +1/-1, there is a relationship, but the points don’t all fall on a line. As r approaches -1 or 1, the strength of the relationship increases and the data points tend to fall closer to a line.\n",
    "\n",
    "\n",
    "* **Direction**: The sign of the correlation coefficient represents the direction of the relationship.\n",
    "\n",
    "    * Positive coefficients indicate that when the value of one variable increases, the value of the other variable also tends to increase. Positive relationships produce an upward slope on a scatterplot.\n",
    "    \n",
    "    * Negative coefficients represent cases when the value of one variable increases, the value of the other variable tends to decrease. Negative relationships produce a downward slope.\n",
    "\n",
    "Here's the same relationship expressed visually ([source](https://www.cuemath.com/data/how-to-calculate-correlation-coefficient/)):\n",
    "\n",
    "<img src=\"https://i.imgur.com/3XUpDlw.png\" width=\"360\">\n",
    "\n",
    "The correlation coefficient has the following formula:\n",
    "\n",
    "<img src=\"https://i.imgur.com/unapugP.png\" width=\"360\">\n",
    "\n",
    "You can learn more about the mathematical definition and geometric interpretation of correlation here: https://www.youtube.com/watch?v=xZ_z8KWkhXE\n",
    "\n",
    "Pandas dataframes also provide a `.corr` method to compute the correlation coefficients between all pairs of numeric columns."
   ]
  },
  {
   "cell_type": "code",
   "execution_count": null,
   "id": "888967ca",
   "metadata": {},
   "outputs": [],
   "source": [
    "# Selecting only the relevant columns\n",
    "correlation_matrix = medical_df[['age', 'bmi', 'children', 'charges']].corr()\n",
    "\n",
    "# Displaying the correlation matrix\n",
    "print(correlation_matrix)"
   ]
  },
  {
   "cell_type": "markdown",
   "id": "97054095",
   "metadata": {},
   "source": [
    "The result of `.corr` is called a correlation matrix and is often visualized using a heatmap."
   ]
  },
  {
   "cell_type": "code",
   "execution_count": null,
   "id": "a9a45ce0",
   "metadata": {},
   "outputs": [],
   "source": [
    "sns.heatmap(medical_df[['age','bmi','children','charges']].corr(), cmap='Reds', annot=True)\n",
    "plt.title('Correlation Matrix')"
   ]
  },
  {
   "cell_type": "markdown",
   "id": "cc53372a",
   "metadata": {},
   "source": [
    "**Correlation vs causation fallacy:** Note that a high correlation cannot be used to interpret a cause-effect relationship between features. Two features $X$ and $Y$ can be correlated if $X$ causes $Y$ or if $Y$ causes $X$, or if both are caused independently by some other factor $Z$, and the correlation will no longer hold true if one of the cause-effect relationships is broken. It's also possible that $X$ are $Y$ simply appear to be correlated because the sample is too small. \n",
    "\n",
    "While this may seem obvious, computers can't differentiate between correlation and causation, and decisions based on automated system can often have major consequences on society, so it's important to study why automated systems lead to a given result. Determining cause-effect relationships requires human insight."
   ]
  },
  {
   "cell_type": "markdown",
   "id": "88b66b16",
   "metadata": {},
   "source": [
    "## Linear Regression using a Single Feature\n",
    "\n",
    "We now know that the \"smoker\" and \"age\" columns have the strongest correlation with \"charges\". Let's try to find a way of estimating the value of \"charges\" using the value of \"age\" for non-smokers. First, let's create a data frame containing just the data for non-smokers."
   ]
  },
  {
   "cell_type": "code",
   "execution_count": null,
   "id": "3524533a",
   "metadata": {},
   "outputs": [],
   "source": [
    "non_smoker_df = medical_df[medical_df.smoker == 'no']"
   ]
  },
  {
   "cell_type": "markdown",
   "id": "c3f3f810",
   "metadata": {},
   "source": [
    "Next, let's visualize the relationship between \"age\" and \"charges\""
   ]
  },
  {
   "cell_type": "code",
   "execution_count": null,
   "id": "1865f516",
   "metadata": {},
   "outputs": [],
   "source": [
    "plt.title('Age vs. Charges')\n",
    "sns.scatterplot(data=non_smoker_df, x='age', y='charges', alpha=0.7, s=15)\n"
   ]
  },
  {
   "cell_type": "markdown",
   "id": "b6531340",
   "metadata": {},
   "source": [
    "Apart from a few exceptions, the points seem to form a line. We'll try and \"fit\" a line using this points, and use the line to predict charges for a given age. A line on the X&Y coordinates has the following formula:\n",
    "\n",
    "$y = wx + b$\n",
    "\n",
    "The line is characterized two numbers: $w$ (called \"slope\") and $b$ (called \"intercept\"). \n",
    "\n",
    "### Model\n",
    "\n",
    "In the above case, the x axis shows \"age\" and the y axis shows \"charges\". Thus, we're assume the following relationship between the two:\n",
    "\n",
    "$charges = w \\times age + b$\n",
    "\n",
    "We'll try determine $w$ and $b$ for the line that best fits the data. \n",
    "\n",
    "* This technique is called _linear regression_, and we call the above equation a _linear regression model_, because it models the relationship between \"age\" and \"charges\" as a straight line. \n",
    "\n",
    "* The numbers $w$ and $b$ are called the _parameters_ or _weights_ of the model.\n",
    "\n",
    "* The values in the \"age\" column of the dataset are called the _inputs_ to the model and the values in the charges column are called \"targets\". \n",
    "\n",
    "Let define a helper function `estimate_charges`, to compute $charges$, given $age$, $w$ and $b$."
   ]
  },
  {
   "cell_type": "code",
   "execution_count": null,
   "id": "144a2977",
   "metadata": {},
   "outputs": [],
   "source": [
    "def estimate_charges(age, w, b):\n",
    "    return w * age + b"
   ]
  },
  {
   "cell_type": "markdown",
   "id": "19ce3018",
   "metadata": {},
   "source": [
    "The `estimate_charges` function is our very first _model_.\n",
    "\n",
    "Let's _guess_ the values for $w$ and $b$ and use them to estimate the value for charges."
   ]
  },
  {
   "cell_type": "code",
   "execution_count": null,
   "id": "c8f0383c",
   "metadata": {},
   "outputs": [],
   "source": [
    "w = 50\n",
    "b = 100"
   ]
  },
  {
   "cell_type": "code",
   "execution_count": null,
   "id": "70da6e64",
   "metadata": {},
   "outputs": [],
   "source": [
    "ages = non_smoker_df.age\n",
    "estimated_charges = estimate_charges(ages, w, b)"
   ]
  },
  {
   "cell_type": "markdown",
   "id": "320cdf31",
   "metadata": {},
   "source": [
    "We can plot the estimated charges using a line graph."
   ]
  },
  {
   "cell_type": "code",
   "execution_count": null,
   "id": "3f60a8e1",
   "metadata": {},
   "outputs": [],
   "source": [
    "plt.plot(ages, estimated_charges, 'r-o');\n",
    "plt.xlabel('Age');\n",
    "plt.ylabel('Estimated Charges');"
   ]
  },
  {
   "cell_type": "markdown",
   "id": "1be17113",
   "metadata": {},
   "source": [
    "As expected, the points lie on a straight line. \n",
    "\n",
    "We can overlay this line on the actual data, so see how well our _model_ fits the _data_."
   ]
  },
  {
   "cell_type": "code",
   "execution_count": null,
   "id": "4f2560c6",
   "metadata": {},
   "outputs": [],
   "source": [
    "target = non_smoker_df.charges\n",
    "\n",
    "plt.plot(ages, estimated_charges, 'r', alpha=0.9);\n",
    "plt.scatter(ages, target, s=8,alpha=0.8);\n",
    "plt.xlabel('Age');\n",
    "plt.ylabel('Charges')\n",
    "plt.legend(['Estimate', 'Actual']);"
   ]
  },
  {
   "cell_type": "markdown",
   "id": "5c56f45f",
   "metadata": {},
   "source": [
    "Clearly, the our estimates are quite poor and the line does not \"fit\" the data. However, we can try different values of $w$ and $b$ to move the line around. Let's define a helper function `try_parameters` which takes `w` and `b` as inputs and creates the above plot."
   ]
  },
  {
   "cell_type": "code",
   "execution_count": null,
   "id": "7faa88c0",
   "metadata": {},
   "outputs": [],
   "source": [
    "def try_parameters(w, b):\n",
    "    ages = non_smoker_df.age\n",
    "    target = non_smoker_df.charges\n",
    "    \n",
    "    estimated_charges = estimate_charges(ages, w, b)\n",
    "    \n",
    "    plt.plot(ages, estimated_charges, 'r', alpha=0.9);\n",
    "    plt.scatter(ages, target, s=8,alpha=0.8);\n",
    "    plt.xlabel('Age');\n",
    "    plt.ylabel('Charges')\n",
    "    plt.legend(['Estimate', 'Actual']);"
   ]
  },
  {
   "cell_type": "code",
   "execution_count": null,
   "id": "49cb17f8",
   "metadata": {},
   "outputs": [],
   "source": [
    "try_parameters(60, 200)"
   ]
  },
  {
   "cell_type": "code",
   "execution_count": null,
   "id": "b8f6a5ba",
   "metadata": {},
   "outputs": [],
   "source": [
    "try_parameters(400, 5000)"
   ]
  },
  {
   "cell_type": "markdown",
   "id": "4a1a4c55",
   "metadata": {},
   "source": [
    "As we change the values, of $w$ and $b$ manually, trying to move the line visually closer to the points, we are _learning_ the approximate relationship between \"age\" and \"charges\". \n",
    "\n",
    "Wouldn't it be nice if a computer could try several different values of `w` and `b` and _learn_ the relationship between \"age\" and \"charges\"? To do this, we need to solve a couple of problems:\n",
    "\n",
    "1. We need a way to measure numerically how well the line fits the points.\n",
    "\n",
    "2. Once the \"measure of fit\" has been computed, we need a way to modify `w` and `b` to improve the the fit.\n",
    "\n",
    "If we can solve the above problems, it should be possible for a computer to determine `w` and `b` for the best fit line, starting from a random guess."
   ]
  },
  {
   "cell_type": "markdown",
   "id": "e58448f1",
   "metadata": {},
   "source": [
    "### Loss/Cost Function\n",
    "\n",
    "We can compare our model's predictions with the actual targets using the following method:\n",
    "\n",
    "* Calculate the difference between the targets and predictions (the differenced is called the \"residual\")\n",
    "* Square all elements of the difference matrix to remove negative values.\n",
    "* Calculate the average of the elements in the resulting matrix.\n",
    "* Take the square root of the result\n",
    "\n",
    "The result is a single number, known as the **root mean squared error** (RMSE). The above description can be stated mathematically as follows: \n",
    "\n",
    "<img src=\"https://i.imgur.com/WCanPkA.png\" width=\"360\">\n",
    "\n",
    "Geometrically, the residuals can be visualized as follows:\n",
    "\n",
    "<img src=\"https://i.imgur.com/ll3NL80.png\" width=\"420\">\n",
    "\n",
    "Let's define a function to compute the RMSE."
   ]
  },
  {
   "cell_type": "code",
   "execution_count": null,
   "id": "4d2e9a87",
   "metadata": {},
   "outputs": [],
   "source": [
    "%pip install numpy"
   ]
  },
  {
   "cell_type": "code",
   "execution_count": null,
   "id": "c4e991cf",
   "metadata": {},
   "outputs": [],
   "source": [
    "import numpy as np"
   ]
  },
  {
   "cell_type": "code",
   "execution_count": null,
   "id": "5673350e",
   "metadata": {},
   "outputs": [],
   "source": [
    "def rmse(targets, predictions):\n",
    "    return np.sqrt(np.mean(np.square(targets - predictions)))"
   ]
  },
  {
   "cell_type": "markdown",
   "id": "4fca682c",
   "metadata": {},
   "source": [
    "Let's compute the RMSE for our model with a sample set of weights"
   ]
  },
  {
   "cell_type": "code",
   "execution_count": null,
   "id": "9afdce38",
   "metadata": {},
   "outputs": [],
   "source": [
    "w = 50\n",
    "b = 100"
   ]
  },
  {
   "cell_type": "code",
   "execution_count": null,
   "id": "e5d1aeaa",
   "metadata": {},
   "outputs": [],
   "source": [
    "try_parameters(w, b)"
   ]
  },
  {
   "cell_type": "code",
   "execution_count": null,
   "id": "8c66a3ff",
   "metadata": {},
   "outputs": [],
   "source": [
    "targets = non_smoker_df['charges']\n",
    "predicted = estimate_charges(non_smoker_df.age, w, b)"
   ]
  },
  {
   "cell_type": "code",
   "execution_count": null,
   "id": "ed789825",
   "metadata": {},
   "outputs": [],
   "source": [
    "rmse(targets, predicted)"
   ]
  },
  {
   "cell_type": "markdown",
   "id": "0b60a591",
   "metadata": {},
   "source": [
    "Here's how we can interpret the above number: *On average, each element in the prediction differs from the actual target by \\\\$8461*. \n",
    "\n",
    "The result is called the *loss* because it indicates how bad the model is at predicting the target variables. It represents information loss in the model: the lower the loss, the better the model.\n",
    "\n",
    "Let's modify the `try_parameters` functions to also display the loss."
   ]
  },
  {
   "cell_type": "code",
   "execution_count": null,
   "id": "f55ed38d",
   "metadata": {},
   "outputs": [],
   "source": [
    "def try_parameters(w, b):\n",
    "    ages = non_smoker_df.age\n",
    "    target = non_smoker_df.charges\n",
    "    predictions = estimate_charges(ages, w, b)\n",
    "    \n",
    "    plt.plot(ages, predictions, 'r', alpha=0.9);\n",
    "    plt.scatter(ages, target, s=8,alpha=0.8);\n",
    "    plt.xlabel('Age');\n",
    "    plt.ylabel('Charges')\n",
    "    plt.legend(['Prediction', 'Actual']);\n",
    "    \n",
    "    loss = rmse(target, predictions)\n",
    "    print(\"RMSE Loss: \", loss)"
   ]
  },
  {
   "cell_type": "code",
   "execution_count": null,
   "id": "dfe67152",
   "metadata": {},
   "outputs": [],
   "source": [
    "try_parameters(50, 100)"
   ]
  },
  {
   "cell_type": "markdown",
   "id": "d69ebc70",
   "metadata": {},
   "source": [
    "### Optimizer\n",
    "\n",
    "Next, we need a strategy to modify weights `w` and `b` to reduce the loss and improve the \"fit\" of the line to the data.\n",
    "\n",
    "* Ordinary Least Squares: https://www.youtube.com/watch?v=szXbuO3bVRk (better for smaller datasets)\n",
    "* Stochastic gradient descent: https://www.youtube.com/watch?v=sDv4f4s2SB8 (better for larger datasets)\n",
    "\n",
    "Both of these have the same objective: to minimize the loss, however, while ordinary least squares directly computes the best values for `w` and `b` using matrix operations, while gradient descent uses a iterative approach, starting with a random values of `w` and `b` and slowly improving them using derivatives. \n",
    "\n",
    "Here's a visualization of how gradient descent works:\n",
    "\n",
    "![](https://miro.medium.com/max/1728/1*NO-YvpHHadk5lLxtg4Gfrw.gif)\n",
    "\n",
    "Doesn't it look similar to our own strategy of gradually moving the line closer to the points?\n"
   ]
  },
  {
   "cell_type": "markdown",
   "id": "483cf9df",
   "metadata": {},
   "source": [
    "### Linear Regression using Scikit-learn\n",
    "\n",
    "In practice, you'll never need to implement either of the above methods yourself. You can use a library like `scikit-learn` to do this for you. "
   ]
  },
  {
   "cell_type": "code",
   "execution_count": null,
   "id": "54ad8c10",
   "metadata": {},
   "outputs": [],
   "source": [
    "%pip install scikit-learn "
   ]
  },
  {
   "cell_type": "markdown",
   "id": "84af70ca",
   "metadata": {},
   "source": [
    "Let's use the `LinearRegression` class from `scikit-learn` to find the best fit line for \"age\" vs. \"charges\" using the ordinary least squares optimization technique."
   ]
  },
  {
   "cell_type": "code",
   "execution_count": null,
   "id": "2a9006b4",
   "metadata": {},
   "outputs": [],
   "source": [
    "from sklearn.linear_model import LinearRegression"
   ]
  },
  {
   "cell_type": "markdown",
   "id": "073c9edb",
   "metadata": {},
   "source": [
    "First, we create a new model object."
   ]
  },
  {
   "cell_type": "code",
   "execution_count": null,
   "id": "eebb5d9b",
   "metadata": {},
   "outputs": [],
   "source": [
    "model = LinearRegression()"
   ]
  },
  {
   "cell_type": "markdown",
   "id": "d3e817be",
   "metadata": {},
   "source": [
    "Next, we can use the `fit` method of the model to find the best fit line for the inputs and targets."
   ]
  },
  {
   "cell_type": "code",
   "execution_count": null,
   "id": "e8700fd9",
   "metadata": {},
   "outputs": [],
   "source": [
    "help(model.fit)"
   ]
  },
  {
   "cell_type": "markdown",
   "id": "24ba2cff",
   "metadata": {},
   "source": [
    "Not that the input `X` must be a 2-d array, so we'll need to pass a dataframe, instead of a single column."
   ]
  },
  {
   "cell_type": "code",
   "execution_count": null,
   "id": "f8d969dc",
   "metadata": {},
   "outputs": [],
   "source": [
    "inputs = non_smoker_df[['age']]\n",
    "targets = non_smoker_df.charges\n",
    "print('inputs.shape :', inputs.shape)\n",
    "print('targes.shape :', targets.shape)"
   ]
  },
  {
   "cell_type": "markdown",
   "id": "207dbbf1",
   "metadata": {},
   "source": [
    "Let's fit the model to the data."
   ]
  },
  {
   "cell_type": "code",
   "execution_count": null,
   "id": "44536795",
   "metadata": {},
   "outputs": [],
   "source": [
    "model.fit(inputs, targets)"
   ]
  },
  {
   "cell_type": "markdown",
   "id": "e49982c0",
   "metadata": {},
   "source": [
    "We can now make predictions using the model. Let's try predicting the charges for the ages 23, 37 and 61"
   ]
  },
  {
   "cell_type": "code",
   "execution_count": null,
   "id": "9b4312df",
   "metadata": {},
   "outputs": [],
   "source": [
    "model.predict(np.array([[23], \n",
    "                        [37], \n",
    "                        [61]]))"
   ]
  },
  {
   "cell_type": "markdown",
   "id": "2f4ddb80",
   "metadata": {},
   "source": [
    "Let compute the predictions for the entire set of inputs"
   ]
  },
  {
   "cell_type": "code",
   "execution_count": null,
   "id": "bb89a1c4",
   "metadata": {},
   "outputs": [],
   "source": [
    "predictions = model.predict(inputs)"
   ]
  },
  {
   "cell_type": "code",
   "execution_count": null,
   "id": "86f2e0a2",
   "metadata": {},
   "outputs": [],
   "source": [
    "predictions"
   ]
  },
  {
   "cell_type": "markdown",
   "id": "84ca9d4e",
   "metadata": {},
   "source": [
    "Let's compute the RMSE loss to evaluate the model."
   ]
  },
  {
   "cell_type": "code",
   "execution_count": null,
   "id": "d587568c",
   "metadata": {},
   "outputs": [],
   "source": [
    "rmse(targets, predictions)"
   ]
  },
  {
   "cell_type": "markdown",
   "id": "3f77c186",
   "metadata": {},
   "source": [
    "Seems like our prediction is off by $4000 on average, which is not too bad considering the fact that there are several outliers."
   ]
  },
  {
   "cell_type": "markdown",
   "id": "f1ee5d2c",
   "metadata": {},
   "source": [
    "The parameters of the model are stored in the `coef_` and `intercept_` properties."
   ]
  },
  {
   "cell_type": "code",
   "execution_count": null,
   "id": "3a0a2e35",
   "metadata": {},
   "outputs": [],
   "source": [
    "# w\n",
    "model.coef_"
   ]
  },
  {
   "cell_type": "code",
   "execution_count": null,
   "id": "34b6a8ea",
   "metadata": {},
   "outputs": [],
   "source": [
    "# b\n",
    "model.intercept_"
   ]
  },
  {
   "cell_type": "markdown",
   "id": "1f7814df",
   "metadata": {},
   "source": [
    "Are these parameters close to your best guesses?\n",
    "\n",
    "Let's visualize the line created by the above parameters."
   ]
  },
  {
   "cell_type": "code",
   "execution_count": null,
   "id": "559f77a2",
   "metadata": {},
   "outputs": [],
   "source": [
    "try_parameters(model.coef_, model.intercept_)"
   ]
  },
  {
   "cell_type": "markdown",
   "id": "2e2486da",
   "metadata": {},
   "source": [
    "Indeed the line is quite close to the points. It is slightly above the cluster of points, because it's also trying to account for the outliers. "
   ]
  },
  {
   "cell_type": "markdown",
   "id": "ab8a0d16",
   "metadata": {},
   "source": [
    "### Machine Learning\n",
    "\n",
    "Congratulations, you've just trained your first _machine learning model!_ Machine learning is simply the process of computing the best parameters to model the relationship between some feature and targets. \n",
    "\n",
    "Every machine learning problem has three components:\n",
    "\n",
    "1. **Model**\n",
    "\n",
    "2. **Cost Function**\n",
    "\n",
    "3. **Optimizer**\n",
    "\n",
    "We'll look at several examples of each of the above in future tutorials. Here's how the relationship between these three components can be visualized:\n",
    "\n",
    "<img src=\"https://www.deepnetts.com/blog/wp-content/uploads/2019/02/SupervisedLearning.png\" width=\"480\">"
   ]
  },
  {
   "cell_type": "markdown",
   "id": "b57f3087",
   "metadata": {},
   "source": [
    "As we've seen above, it takes just a few lines of code to train a machine learning model using `scikit-learn`."
   ]
  },
  {
   "cell_type": "code",
   "execution_count": null,
   "id": "bf81399b",
   "metadata": {},
   "outputs": [],
   "source": [
    "# Create inputs and targets\n",
    "inputs, targets = non_smoker_df[['age']], non_smoker_df['charges']\n",
    "\n",
    "# Create and train the model\n",
    "model = LinearRegression().fit(inputs, targets)\n",
    "\n",
    "# Generate predictions\n",
    "predictions = model.predict(inputs)\n",
    "\n",
    "# Compute loss to evalute the model\n",
    "loss = rmse(targets, predictions)\n",
    "print('Loss:', loss)"
   ]
  },
  {
   "cell_type": "markdown",
   "id": "e41b49e4",
   "metadata": {},
   "source": [
    "## Linear Regression using Multiple Features\n",
    "\n",
    "So far, we've used on the \"age\" feature to estimate \"charges\". Adding another feature like \"bmi\" is fairly straightforward. We simply assume the following relationship:\n",
    "\n",
    "$charges = w_1 \\times age + w_2 \\times bmi + b$\n",
    "\n",
    "We need to change just one line of code to include the BMI."
   ]
  },
  {
   "cell_type": "code",
   "execution_count": null,
   "id": "55ce7593",
   "metadata": {},
   "outputs": [],
   "source": [
    "# Create inputs and targets\n",
    "inputs, targets = non_smoker_df[['age', 'bmi']], non_smoker_df['charges']\n",
    "\n",
    "# Create and train the model\n",
    "model = LinearRegression().fit(inputs, targets)\n",
    "\n",
    "# Generate predictions\n",
    "predictions = model.predict(inputs)\n",
    "\n",
    "# Compute loss to evalute the model\n",
    "loss = rmse(targets, predictions)\n",
    "print('Loss:', loss)"
   ]
  },
  {
   "cell_type": "markdown",
   "id": "661c1852",
   "metadata": {},
   "source": [
    "As you can see, adding the BMI doesn't seem to reduce the loss by much, as the BMI has a very weak correlation with charges, especially for non smokers."
   ]
  },
  {
   "cell_type": "code",
   "execution_count": null,
   "id": "9bbcbc24",
   "metadata": {},
   "outputs": [],
   "source": [
    "fig = px.scatter(non_smoker_df, x='bmi', y='charges', title='BMI vs. Charges')\n",
    "fig.update_traces(marker_size=5)\n",
    "fig.show()"
   ]
  },
  {
   "cell_type": "markdown",
   "id": "afbd827b",
   "metadata": {},
   "source": [
    "We can also visualize the relationship between all 3 variables \"age\", \"bmi\" and \"charges\" using a 3D scatter plot."
   ]
  },
  {
   "cell_type": "code",
   "execution_count": null,
   "id": "0998150b",
   "metadata": {},
   "outputs": [],
   "source": [
    "fig = px.scatter_3d(non_smoker_df, x='age', y='bmi', z='charges')\n",
    "fig.update_traces(marker_size=3, marker_opacity=0.5)\n",
    "fig.show()"
   ]
  },
  {
   "cell_type": "markdown",
   "id": "653b28a9",
   "metadata": {},
   "source": [
    "You can see that it's harder to interpret a 3D scatter plot compared to a 2D scatter plot. As we add more features, it becomes impossible to visualize all feature at once, which is why we use measures like correlation and loss. \n",
    "\n",
    "Let's also check the parameters of the model."
   ]
  },
  {
   "cell_type": "code",
   "execution_count": null,
   "id": "af0e0ae8",
   "metadata": {},
   "outputs": [],
   "source": [
    "model.coef_, model.intercept_"
   ]
  },
  {
   "cell_type": "markdown",
   "id": "fdb4f022",
   "metadata": {},
   "source": [
    "Clearly, BMI has a much lower weightage, and you can see why. It has a tiny contribution, and even that is probably accidental. This is an important thing to keep in mind: you can't find a relationship that doesn't exist, no matter what machine learning technique or optimization algorithm you apply. "
   ]
  },
  {
   "cell_type": "markdown",
   "id": "26411963",
   "metadata": {},
   "source": [
    "Let's go one step further, and add the final numeric column: \"children\", which seems to have some correlation with \"charges\".\n",
    "\n",
    "$charges = w_1 \\times age + w_2 \\times bmi + w_3 \\times children + b$"
   ]
  },
  {
   "cell_type": "code",
   "execution_count": null,
   "id": "d877e08b",
   "metadata": {},
   "outputs": [],
   "source": [
    "non_smoker_df.charges.corr(non_smoker_df.children)"
   ]
  },
  {
   "cell_type": "code",
   "execution_count": null,
   "id": "e9beb313",
   "metadata": {},
   "outputs": [],
   "source": [
    "fig = px.strip(non_smoker_df, x='children', y='charges', title= \"Children vs. Charges\")\n",
    "fig.update_traces(marker_size=4, marker_opacity=0.7)\n",
    "fig.show()"
   ]
  },
  {
   "cell_type": "code",
   "execution_count": null,
   "id": "4ebf113d",
   "metadata": {},
   "outputs": [],
   "source": [
    "# Create inputs and targets\n",
    "inputs, targets = non_smoker_df[['age', 'bmi', 'children']], non_smoker_df['charges']\n",
    "\n",
    "# Create and train the model\n",
    "model = LinearRegression().fit(inputs, targets)\n",
    "\n",
    "# Generate predictions\n",
    "predictions = model.predict(inputs)\n",
    "\n",
    "# Compute loss to evalute the model\n",
    "loss = rmse(targets, predictions)\n",
    "print('Loss:', loss)"
   ]
  },
  {
   "cell_type": "markdown",
   "id": "0f00737c",
   "metadata": {},
   "source": [
    "Once again, we don't see a big reduction in the loss, even though it's greater than in the case of BMI."
   ]
  },
  {
   "cell_type": "markdown",
   "id": "24eb0cd9",
   "metadata": {},
   "source": [
    "> **EXERCISE**: Repeat the steps is this section to train a linear regression model to estimate medical charges for all customers. Visualize the targets and predictions, and compute the loss. Is the loss lower or higher?"
   ]
  },
  {
   "cell_type": "code",
   "execution_count": null,
   "id": "6b7d006a",
   "metadata": {},
   "outputs": [],
   "source": [
    "# Create inputs and targets\n",
    "inputs, targets = medical_df[['age', 'bmi', 'children']], medical_df['charges']\n",
    "\n",
    "# Create and train the model\n",
    "model = LinearRegression().fit(inputs, targets)\n",
    "\n",
    "# Generate predictions\n",
    "predictions = model.predict(inputs)\n",
    "\n",
    "# Compute loss to evalute the model\n",
    "loss = rmse(targets, predictions)\n",
    "print('Loss:', loss)"
   ]
  },
  {
   "cell_type": "markdown",
   "id": "63d741f6",
   "metadata": {},
   "source": [
    "## Using Categorical Features for Machine Learning\n",
    "\n",
    "So far we've been using only numeric columns, since we can only perform computations with numbers. If we could use categorical columns like \"smoker\", we can train a single model for the entire dataset.\n",
    "\n",
    "To use the categorical columns, we simply need to convert them to numbers. There are three common techniques for doing this:\n",
    "\n",
    "1. If a categorical column has just two categories (it's called a binary category), then we can replace their values with 0 and 1.\n",
    "2. If a categorical column has more than 2 categories, we can perform one-hot encoding i.e. create a new column for each category with 1s and 0s.\n",
    "3. If the categories have a natural order (e.g. cold, neutral, warm, hot), then they can be converted to numbers (e.g. 1, 2, 3, 4) preserving the order. These are called ordinals\n",
    "\n"
   ]
  },
  {
   "cell_type": "markdown",
   "id": "0ccb2996",
   "metadata": {},
   "source": [
    "## Binary Categories\n",
    "\n",
    "The \"smoker\" category has just two values \"yes\" and \"no\". Let's create a new column \"smoker_code\" containing 0 for \"no\" and 1 for \"yes\"."
   ]
  },
  {
   "cell_type": "code",
   "execution_count": null,
   "id": "f1c0bcea",
   "metadata": {},
   "outputs": [],
   "source": [
    "sns.barplot(data=medical_df, x='smoker', y='charges');"
   ]
  },
  {
   "cell_type": "code",
   "execution_count": null,
   "id": "cfa9f9a4",
   "metadata": {},
   "outputs": [],
   "source": [
    "smoker_codes={'no':0, 'yes':1}\n",
    "medical_df['smoker_code']=medical_df.smoker.map(smoker_codes)"
   ]
  },
  {
   "cell_type": "code",
   "execution_count": null,
   "id": "ab53bba8",
   "metadata": {},
   "outputs": [],
   "source": [
    "medical_df.charges.corr(medical_df.smoker_code)"
   ]
  },
  {
   "cell_type": "code",
   "execution_count": null,
   "id": "530ee1d7",
   "metadata": {},
   "outputs": [],
   "source": [
    "medical_df"
   ]
  },
  {
   "cell_type": "markdown",
   "id": "2b698424",
   "metadata": {},
   "source": [
    "We can now use the `smoker_df` column for linear regression.\n",
    "\n",
    "$charges = w_1 \\times age + w_2 \\times bmi + w_3 \\times charges + w_4 \\times smoker + b$"
   ]
  },
  {
   "cell_type": "code",
   "execution_count": null,
   "id": "77292eec",
   "metadata": {},
   "outputs": [],
   "source": [
    "# Create inputs and targets\n",
    "inputs, targets=medical_df[['age','bmi','children','smoker_code']],medical_df['charges']\n",
    "\n",
    "# Create and train the model\n",
    "model=LinearRegression().fit(inputs,targets)\n",
    "\n",
    "# Generate predictions\n",
    "predictions=model.predict(inputs)\n",
    "\n",
    "# Compute loss to evaluate the model\n",
    "loss=rmse(targets,predictions)\n",
    "print('loss:',loss)"
   ]
  },
  {
   "cell_type": "markdown",
   "id": "08c401ec",
   "metadata": {},
   "source": [
    "The loss reduces from `11355` to `6056`, almost by 50%! This is an important lesson: never ignore categorical data.\n",
    "\n",
    "\n",
    "Let's try adding the \"sex\" column as well.\n",
    "\n",
    "$charges = w_1 \\times age + w_2 \\times bmi + w_3 \\times charges + w_4 \\times smoker + w_5 \\times sex + b$"
   ]
  },
  {
   "cell_type": "code",
   "execution_count": null,
   "id": "7db4c414",
   "metadata": {},
   "outputs": [],
   "source": [
    "sns.barplot(data=medical_df,x='sex',y='charges')"
   ]
  },
  {
   "cell_type": "code",
   "execution_count": null,
   "id": "7d899041",
   "metadata": {},
   "outputs": [],
   "source": [
    "sex_codes={'female':0,'male':1}"
   ]
  },
  {
   "cell_type": "code",
   "execution_count": null,
   "id": "9ec25325",
   "metadata": {},
   "outputs": [],
   "source": [
    "medical_df['sex_code']=medical_df.sex.map(sex_codes)"
   ]
  },
  {
   "cell_type": "code",
   "execution_count": null,
   "id": "93f67b17",
   "metadata": {},
   "outputs": [],
   "source": [
    "medical_df.charges.corr(medical_df.sex_code)"
   ]
  },
  {
   "cell_type": "code",
   "execution_count": null,
   "id": "a41b4a07",
   "metadata": {},
   "outputs": [],
   "source": [
    "# Create inputs and targets\n",
    "inputs, targets=medical_df[['age','bmi','children','smoker_code','sex_code']],medical_df['charges']\n",
    "\n",
    "# Create and train the model\n",
    "model=LinearRegression().fit(inputs,targets)\n",
    "\n",
    "# Generate predictions\n",
    "predictions=model.predict(inputs)\n",
    "\n",
    "# Compute loss to evaluate the model\n",
    "loss=rmse(targets,predictions)\n",
    "print('loss:',loss)"
   ]
  },
  {
   "cell_type": "markdown",
   "id": "72012cf4",
   "metadata": {},
   "source": [
    "As you might expect, this does have a significant impact on the loss."
   ]
  },
  {
   "cell_type": "markdown",
   "id": "4fb37541",
   "metadata": {},
   "source": [
    "\n",
    "### One-hot Encoding\n",
    "\n",
    "The \"region\" column contains 4 values, so we'll need to use hot encoding and create a new column for each region.\n",
    "\n",
    "![](https://i.imgur.com/n8GuiOO.png)"
   ]
  },
  {
   "cell_type": "code",
   "execution_count": null,
   "id": "fb686243",
   "metadata": {},
   "outputs": [],
   "source": [
    "sns.barplot(data=medical_df,x='region',y='charges');"
   ]
  },
  {
   "cell_type": "code",
   "execution_count": null,
   "id": "dae0fa1f",
   "metadata": {},
   "outputs": [],
   "source": [
    "from sklearn import preprocessing\n",
    "enc=preprocessing.OneHotEncoder()\n",
    "enc.fit(medical_df[['region']])\n",
    "enc.categories_"
   ]
  },
  {
   "cell_type": "code",
   "execution_count": null,
   "id": "de05c6b2",
   "metadata": {},
   "outputs": [],
   "source": [
    "one_hot=enc.transform(medical_df[['region']]).toarray()\n",
    "one_hot"
   ]
  },
  {
   "cell_type": "code",
   "execution_count": null,
   "id": "570c0f7d",
   "metadata": {},
   "outputs": [],
   "source": [
    "medical_df[['northeast','northwest','southeast','southwest']]=one_hot"
   ]
  },
  {
   "cell_type": "code",
   "execution_count": null,
   "id": "1a360929",
   "metadata": {},
   "outputs": [],
   "source": [
    "medical_df"
   ]
  },
  {
   "cell_type": "markdown",
   "id": "d2b25aae",
   "metadata": {},
   "source": [
    "Let's include the region columns into our linear regression model.\n",
    "\n",
    "$charges = w_1 \\times age + w_2 \\times bmi + w_3 \\times charges + w_4 \\times smoker + w_5 \\times sex + w_6 \\times region + b$"
   ]
  },
  {
   "cell_type": "code",
   "execution_count": null,
   "id": "09825ac4",
   "metadata": {},
   "outputs": [],
   "source": [
    "# Create inputs and targets\n",
    "input_cols=['age','bmi','children','smoker_code','sex_code','northeast','northwest','southeast','southwest']\n",
    "inputs,targets=medical_df[input_cols],medical_df['charges']\n",
    "\n",
    "# Create and train the model\n",
    "model=LinearRegression().fit(inputs,targets)\n",
    "\n",
    "# Generate predictions\n",
    "predictions=model.predict(inputs)\n",
    "\n",
    "# Compute loss to evaluate the model\n",
    "loss=rmse(targets,predictions)\n",
    "print('Loss:',loss)"
   ]
  },
  {
   "cell_type": "markdown",
   "id": "5e5a8ffa",
   "metadata": {},
   "source": [
    "## Model Improvements\n",
    "\n",
    "Let's discuss and apply some more improvements to our model.\n",
    "\n",
    "### Feature Scaling\n",
    "\n",
    "Recall that due to regulatory requirements, we also need to explain the rationale behind the predictions our model. \n",
    "\n",
    "$charges = w_1 \\times age + w_2 \\times bmi + w_3 \\times charges + w_4 \\times smoker + w_5 \\times sex + w_6 \\times region + b$\n",
    "\n",
    "To compare the importance of each feature in the model, our first instinct might be to compare their weights. "
   ]
  },
  {
   "cell_type": "code",
   "execution_count": null,
   "id": "db9f24a8",
   "metadata": {},
   "outputs": [],
   "source": [
    "model.coef_"
   ]
  },
  {
   "cell_type": "code",
   "execution_count": null,
   "id": "65be7d89",
   "metadata": {},
   "outputs": [],
   "source": [
    "model.intercept_"
   ]
  },
  {
   "cell_type": "code",
   "execution_count": null,
   "id": "73488a72",
   "metadata": {},
   "outputs": [],
   "source": [
    "weights_df=pd.DataFrame({\n",
    "    'feature':np.append(input_cols,1),\n",
    "    'weight':np.append(model.coef_,model.intercept_)\n",
    "})\n",
    "weights_df"
   ]
  },
  {
   "cell_type": "markdown",
   "id": "61cf2d43",
   "metadata": {},
   "source": [
    "While it seems like BMI and the \"northeast\" have a higher weight than age, keep in mind that the range of values for BMI is limited (15 to 40) and the \"northeast\" column only takes the values 0 and 1.\n",
    "\n",
    "Because different columns have different ranges, we run into two issues:\n",
    "\n",
    "1. We can't compare the weights of different column to identify which features are important\n",
    "2. A column with a larger range of inputs may disproportionately affect the loss and dominate the optimization process.\n",
    "\n",
    "For this reason, it's common practice to scale (or standardize) the values in numeric column by subtracting the mean and dividing by the standard deviation.\n",
    "\n",
    "![](https://i.imgur.com/dT5fLFI.png)\n",
    "\n",
    "We can apply scaling using the StandardScaler class from `scikit-learn`."
   ]
  },
  {
   "cell_type": "code",
   "execution_count": null,
   "id": "42079f29",
   "metadata": {},
   "outputs": [],
   "source": [
    "medical_df"
   ]
  },
  {
   "cell_type": "code",
   "execution_count": null,
   "id": "434e0077",
   "metadata": {},
   "outputs": [],
   "source": [
    "from sklearn.preprocessing import StandardScaler"
   ]
  },
  {
   "cell_type": "code",
   "execution_count": null,
   "id": "248fdeed",
   "metadata": {},
   "outputs": [],
   "source": [
    "numeric_cols=['age','bmi','children']\n",
    "scaler=StandardScaler()\n",
    "scaler.fit(medical_df[numeric_cols])"
   ]
  },
  {
   "cell_type": "code",
   "execution_count": null,
   "id": "c29fb84f",
   "metadata": {},
   "outputs": [],
   "source": [
    "scaler.mean_"
   ]
  },
  {
   "cell_type": "code",
   "execution_count": null,
   "id": "d2447fa6",
   "metadata": {},
   "outputs": [],
   "source": [
    "scaler.var_"
   ]
  },
  {
   "cell_type": "markdown",
   "id": "c0db04f5",
   "metadata": {},
   "source": [
    "We can now scale the data as follows"
   ]
  },
  {
   "cell_type": "code",
   "execution_count": null,
   "id": "c00cefab",
   "metadata": {},
   "outputs": [],
   "source": [
    "scaled_inputs=scaler.transform(medical_df[numeric_cols])\n",
    "scaled_inputs"
   ]
  },
  {
   "cell_type": "markdown",
   "id": "63a94bdd",
   "metadata": {},
   "source": [
    "These can now we combined with the categorical data"
   ]
  },
  {
   "cell_type": "code",
   "execution_count": null,
   "id": "ab3d04f2",
   "metadata": {},
   "outputs": [],
   "source": [
    "cat_cols=['smoker_code','sex_code','northeast','northwest','southeast','southwest']\n",
    "categorical_data=medical_df[cat_cols].values"
   ]
  },
  {
   "cell_type": "code",
   "execution_count": null,
   "id": "4f8a0e53",
   "metadata": {},
   "outputs": [],
   "source": [
    "inputs=np.concatenate((scaled_inputs,categorical_data),axis=1)\n",
    "targets=medical_df.charges\n",
    "\n",
    "# Create and train the model\n",
    "model=LinearRegression().fit(inputs,targets)\n",
    "\n",
    "# Generate predictions\n",
    "predications=model.predict(inputs)\n",
    "\n",
    "# Compute loss to evaluate the model\n",
    "loss=rmse(targets,predications)\n",
    "print('Loss:',loss)"
   ]
  },
  {
   "cell_type": "markdown",
   "id": "044ca6eb",
   "metadata": {},
   "source": [
    "We can now compare the weights in the formula:\n",
    "\n",
    "$charges = w_1 \\times age + w_2 \\times bmi + w_3 \\times charges + w_4 \\times smoker + w_5 \\times sex + w_6 \\times northeast + w_7 \\times northwest + w_8 \\times southeast + w_9 \\times southwest + b$"
   ]
  },
  {
   "cell_type": "code",
   "execution_count": null,
   "id": "3f42b013",
   "metadata": {},
   "outputs": [],
   "source": [
    "weights_df=pd.DataFrame({\n",
    "    'feature':np.append(numeric_cols+cat_cols,1),\n",
    "    'weight':np.append(model.coef_,model.intercept_)\n",
    "})\n",
    "weights_df.sort_values('weight',ascending=False)"
   ]
  },
  {
   "cell_type": "markdown",
   "id": "d8153377",
   "metadata": {},
   "source": [
    "As you can see now, the most important feature are:\n",
    "\n",
    "1. Smoker\n",
    "2. Age\n",
    "3. BMI"
   ]
  },
  {
   "cell_type": "markdown",
   "id": "2efb8b75",
   "metadata": {},
   "source": [
    "### Creating a Test Set\n",
    "\n",
    "Models like the one we've created in this tutorial are designed to be used in the real world. It's common practice to set aside a small fraction of the data (e.g. 10%) just for testing and reporting the results of the model."
   ]
  },
  {
   "cell_type": "code",
   "execution_count": null,
   "id": "69a2cd6d",
   "metadata": {},
   "outputs": [],
   "source": [
    "from sklearn.model_selection import train_test_split"
   ]
  },
  {
   "cell_type": "code",
   "execution_count": null,
   "id": "623139be",
   "metadata": {},
   "outputs": [],
   "source": [
    "inputs_train, inputs_test, targets_train, targets_test=train_test_split(inputs, targets, test_size=0.1)"
   ]
  },
  {
   "cell_type": "code",
   "execution_count": null,
   "id": "a05c8164",
   "metadata": {},
   "outputs": [],
   "source": [
    "# Create and train the model\n",
    "model=LinearRegression().fit(inputs_train,targets_train)\n",
    "\n",
    "# Generate predictions\n",
    "predictions_test=model.predict(inputs_test)\n",
    "\n",
    "# Compute loss to evaluate the model\n",
    "loss=rmse(targets_test,predictions_test)\n",
    "print('Test Loss: ',loss)"
   ]
  },
  {
   "cell_type": "markdown",
   "id": "f191c711",
   "metadata": {},
   "source": [
    "Let's compare this with the training loss."
   ]
  },
  {
   "cell_type": "code",
   "execution_count": null,
   "id": "736afa44",
   "metadata": {},
   "outputs": [],
   "source": [
    "# Generate predictions\n",
    "predictions_train=model.predict(inputs_train)\n",
    "\n",
    "# Compute loss to evaluate the model\n",
    "loss=rmse(targets_train,predictions_train)\n",
    "print('Training Loss: ',loss)"
   ]
  }
 ],
 "metadata": {
  "kernelspec": {
   "display_name": "jskre",
   "language": "python",
   "name": "python3"
  },
  "language_info": {
   "codemirror_mode": {
    "name": "ipython",
    "version": 3
   },
   "file_extension": ".py",
   "mimetype": "text/x-python",
   "name": "python",
   "nbconvert_exporter": "python",
   "pygments_lexer": "ipython3",
   "version": "3.12.3"
  }
 },
 "nbformat": 4,
 "nbformat_minor": 5
}
