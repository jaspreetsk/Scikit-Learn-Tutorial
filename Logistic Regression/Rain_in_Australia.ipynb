{
 "cells": [
  {
   "cell_type": "markdown",
   "id": "d08c1c07",
   "metadata": {},
   "source": [
    "# Logistic Regression with Scikit Learn - Machine Learning with Python\n",
    "\n",
    "![](https://i.imgur.com/N8aIuRK.jpg)"
   ]
  },
  {
   "cell_type": "markdown",
   "id": "67f152b5",
   "metadata": {},
   "source": [
    "## Problem Statement\n",
    "\n",
    "This tutorial takes a practical and coding-focused approach. We'll learn how to apply _logistic regression_ to a real-world dataset from [Kaggle](https://kaggle.com/datasets):\n",
    "\n",
    "> **QUESTION**: The [Rain in Australia dataset](https://kaggle.com/jsphyg/weather-dataset-rattle-package) contains about 10 years of daily weather observations from numerous Australian weather stations. Here's a small sample from the dataset:\n",
    "> \n",
    "> ![](https://i.imgur.com/5QNJvir.png)\n",
    ">\n",
    "> As a data scientist at the Bureau of Meteorology, you are tasked with creating a fully-automated system that can use today's weather data for a given location to predict whether it will rain at the location tomorrow. \n",
    ">\n",
    ">\n",
    "> ![](https://i.imgur.com/KWfcpcO.png)\n"
   ]
  },
  {
   "cell_type": "markdown",
   "id": "b7564a22",
   "metadata": {},
   "source": [
    "## Linear Regression vs. Logistic Regression\n",
    "\n",
    "In the [previous tutorial](https://jovian.ai/aakashns/python-sklearn-linear-regression), we attempted to predict a person's annual medical charges using _linear regression_. In this tutorial, we'll use _logistic regression_, which is better suited for _classification_ problems like predicting whether it will rain tomorrow. Identifying whether a given problem is a _classfication_ or _regression_ problem is an important first step in machine learning."
   ]
  },
  {
   "cell_type": "markdown",
   "id": "953d384e",
   "metadata": {},
   "source": [
    "### Classification Problems\n",
    "\n",
    "\n",
    "Problems where each input must be assigned a discrete category (also called label or class) are known as _classification problems_. \n",
    "\n",
    "Here are some examples of classification problems:\n",
    "\n",
    "- [Rainfall prediction](https://kaggle.com/jsphyg/weather-dataset-rattle-package): Predicting whether it will rain tomorrow using today's weather data (classes are \"Will Rain\" and \"Will Not Rain\")\n",
    "- [Breast cancer detection](https://www.kaggle.com/uciml/breast-cancer-wisconsin-data): Predicting whether a tumor  is \"benign\" (noncancerous) or \"malignant\" (cancerous) using information like its radius, texture etc.\n",
    "- [Loan Repayment Prediction](https://www.kaggle.com/c/home-credit-default-risk) - Predicting whether applicants will repay a home loan based on factors like age, income, loan amount, no. of children etc.\n",
    "- [Handwritten Digit Recognition](https://www.kaggle.com/c/digit-recognizer) - Identifying which digit from 0 to 9 a picture of handwritten text represents.\n",
    "\n",
    "Classification problems can be binary (yes/no) or multiclass (picking one of many classes)."
   ]
  },
  {
   "cell_type": "markdown",
   "id": "e10f0e3d",
   "metadata": {},
   "source": [
    "### Regression Problems\n",
    "\n",
    "Problems where a continuous numeric value must be predicted for each input are known as _regression problems_.\n",
    "\n",
    "Here are some example of regression problems:\n",
    "\n",
    "- [Medical Charges Prediction](https://www.kaggle.com/subhakarks/medical-insurance-cost-analysis-and-prediction)\n",
    "- [House Price Prediction](https://www.kaggle.com/c/house-prices-advanced-regression-techniques) \n",
    "- [Ocean Temperature Prediction](https://www.kaggle.com/sohier/calcofi)\n",
    "- [Weather Temperature Prediction](https://www.kaggle.com/budincsevity/szeged-weather)\n"
   ]
  },
  {
   "cell_type": "markdown",
   "id": "0d942a92",
   "metadata": {},
   "source": [
    "### Linear Regression for Solving Regression Problems\n",
    "\n",
    "Linear regression is a commonly used technique for solving regression problems. In a linear regression model, the target is modeled as a linear combination (or weighted sum) of input features. The predictions from the model are evaluated using a loss function like the Root Mean Squared Error (RMSE).\n",
    "\n",
    "\n",
    "Here's a visual summary of how a linear regression model is structured:\n",
    "\n",
    "<img src=\"https://i.imgur.com/iTM2s5k.png\" width=\"480\">\n"
   ]
  },
  {
   "cell_type": "markdown",
   "id": "8de03281",
   "metadata": {},
   "source": [
    "### Logistic Regression for Solving Classification Problems\n",
    "\n",
    "Logistic regression is a commonly used technique for solving binary classification problems. In a logistic regression model: \n",
    "\n",
    "- we take linear combination (or weighted sum of the input features) \n",
    "- we apply the sigmoid function to the result to obtain a number between 0 and 1\n",
    "- this number represents the probability of the input being classified as \"Yes\"\n",
    "- instead of RMSE, the cross entropy loss function is used to evaluate the results\n",
    "\n",
    "\n",
    "Here's a visual summary of how a logistic regression model is structured ([source](http://datahacker.rs/005-pytorch-logistic-regression-in-pytorch/)):\n",
    "\n",
    "\n",
    "<img src=\"https://i.imgur.com/YMaMo5D.png\" width=\"480\">\n",
    "\n",
    "The sigmoid function applied to the linear combination of inputs has the following formula:\n",
    "\n",
    "<img src=\"https://i.imgur.com/sAVwvZP.png\" width=\"400\">\n",
    "\n",
    "\n",
    "The output of the sigmoid function is called a logistic, hence the name _logistic regression_.  Logistic regression can also be applied to multi-class classification problems, with a few modifications."
   ]
  },
  {
   "cell_type": "markdown",
   "id": "a729b9d0",
   "metadata": {},
   "source": [
    "### Machine Learning Workflow\n",
    "\n",
    "Whether we're solving a regression problem using linear regression or a classification problem using logistic regression, the workflow for training a model is exactly the same:\n",
    "\n",
    "1. We initialize a model with random parameters (weights & biases).\n",
    "2. We pass some inputs into the model to obtain predictions.\n",
    "3. We compare the model's predictions with the actual targets using the loss function.  \n",
    "4. We use an optimization technique (like least squares, gradient descent etc.) to reduce the loss by adjusting the weights & biases of the model\n",
    "5. We repeat steps 1 to 4 till the predictions from the model are good enough.\n",
    "\n",
    "\n",
    "<img src=\"https://www.deepnetts.com/blog/wp-content/uploads/2019/02/SupervisedLearning.png\" width=\"480\">\n",
    "\n",
    "\n",
    "Classification and regression are both supervised machine learning problems, because they use labeled data. Machine learning applied to unlabeled data is known as unsupervised learning ([image source](https://au.mathworks.com/help/stats/machine-learning-in-matlab.html)). \n",
    "\n",
    "<img src=\"https://i.imgur.com/1EMQmAw.png\" width=\"480\">\n",
    "\n",
    "\n",
    "In this tutorial, we'll train a _logistic regression_ model using the Rain in Australia dataset to predict whether or not it will rain at a location tomorrow, using today's data. This is a _binary classification_ problem.\n",
    "\n",
    "Let's install the `scikit-learn` library which we'll use to train our model."
   ]
  },
  {
   "cell_type": "code",
   "execution_count": null,
   "id": "85c2710a",
   "metadata": {},
   "outputs": [],
   "source": [
    "%pip install scikit-learn --upgrade "
   ]
  },
  {
   "cell_type": "markdown",
   "id": "f36de19c",
   "metadata": {},
   "source": [
    "## Downloading the Data\n",
    "\n",
    "We'll use the [`opendatasets` library](https://github.com/JovianML/opendatasets) to download the data from Kaggle directly within Jupyter. Let's install and import `opendatasets`."
   ]
  },
  {
   "cell_type": "code",
   "execution_count": null,
   "id": "2ec7eecf",
   "metadata": {},
   "outputs": [],
   "source": [
    "%pip install opendatasets --upgrade "
   ]
  },
  {
   "cell_type": "code",
   "execution_count": null,
   "id": "ed6ce230",
   "metadata": {},
   "outputs": [],
   "source": [
    "import opendatasets as od"
   ]
  },
  {
   "cell_type": "code",
   "execution_count": null,
   "id": "46548364",
   "metadata": {},
   "outputs": [],
   "source": [
    "od.version()"
   ]
  },
  {
   "cell_type": "markdown",
   "id": "128055a0",
   "metadata": {},
   "source": [
    "The dataset can now be downloaded using `od.download`. When you execute `od.download`, you will be asked to provide your Kaggle username and API key. Follow these instructions to create an API key: http://bit.ly/kaggle-creds"
   ]
  },
  {
   "cell_type": "code",
   "execution_count": null,
   "id": "e3ab47a5",
   "metadata": {},
   "outputs": [],
   "source": [
    "dataset_url = 'https://www.kaggle.com/jsphyg/weather-dataset-rattle-package'"
   ]
  },
  {
   "cell_type": "code",
   "execution_count": null,
   "id": "d34243ea",
   "metadata": {},
   "outputs": [],
   "source": [
    "# od.download(dataset_url)"
   ]
  },
  {
   "cell_type": "markdown",
   "id": "03398524",
   "metadata": {},
   "source": [
    "Once the above command is executed, the dataset is downloaded and extracted to the the directory `weather-dataset-rattle-package`."
   ]
  },
  {
   "cell_type": "code",
   "execution_count": null,
   "id": "54595064",
   "metadata": {},
   "outputs": [],
   "source": [
    "import os"
   ]
  },
  {
   "cell_type": "code",
   "execution_count": null,
   "id": "13108bd8",
   "metadata": {},
   "outputs": [],
   "source": [
    "data_dir='./weather-dataset-rattle-package'"
   ]
  },
  {
   "cell_type": "code",
   "execution_count": null,
   "id": "4da6f591",
   "metadata": {},
   "outputs": [],
   "source": [
    "os.listdir(data_dir)"
   ]
  },
  {
   "cell_type": "code",
   "execution_count": null,
   "id": "38a3ecdd",
   "metadata": {},
   "outputs": [],
   "source": [
    "train_csv=data_dir+'/weatherAUS.csv'"
   ]
  },
  {
   "cell_type": "markdown",
   "id": "d9bf65ab",
   "metadata": {},
   "source": [
    "\n",
    "Let's load the data from `weatherAUS.csv` using Pandas."
   ]
  },
  {
   "cell_type": "code",
   "execution_count": null,
   "id": "fcc72b64",
   "metadata": {},
   "outputs": [],
   "source": [
    "%pip install pandas"
   ]
  },
  {
   "cell_type": "code",
   "execution_count": null,
   "id": "fbc579f2",
   "metadata": {},
   "outputs": [],
   "source": [
    "import pandas as pd"
   ]
  },
  {
   "cell_type": "code",
   "execution_count": null,
   "id": "837492a2",
   "metadata": {},
   "outputs": [],
   "source": [
    "raw_df=pd.read_csv(train_csv)"
   ]
  },
  {
   "cell_type": "code",
   "execution_count": null,
   "id": "6f582e91",
   "metadata": {},
   "outputs": [],
   "source": [
    "raw_df"
   ]
  },
  {
   "cell_type": "markdown",
   "id": "4a11d06c",
   "metadata": {},
   "source": [
    "The dataset contains over 145,000 rows and 23 columns. The dataset contains date, numeric and categorical columns. Our objective is to create a model to predict the value in the column `RainTomorrow`.\n",
    "\n",
    "Let's check the data types and missing values in the various columns."
   ]
  },
  {
   "cell_type": "code",
   "execution_count": null,
   "id": "752eebed",
   "metadata": {},
   "outputs": [],
   "source": [
    "raw_df.info()"
   ]
  },
  {
   "cell_type": "markdown",
   "id": "88e809c2",
   "metadata": {},
   "source": [
    "While we should be able to fill in missing values for most columns, it might be a good idea to discard the rows where the value of `RainTomorrow` or `RainToday` is missing to make our analysis and modeling simpler (since one of them is the target variable, and the other is likely to be very closely related to the target variable). "
   ]
  },
  {
   "cell_type": "code",
   "execution_count": null,
   "id": "d255c193",
   "metadata": {},
   "outputs": [],
   "source": [
    "raw_df.dropna(subset=['RainToday','RainTomorrow'],inplace=True)"
   ]
  },
  {
   "cell_type": "code",
   "execution_count": null,
   "id": "792aa148",
   "metadata": {},
   "outputs": [],
   "source": [
    "%pip install plotly matplotlib seaborn"
   ]
  },
  {
   "cell_type": "code",
   "execution_count": null,
   "id": "c9a54645",
   "metadata": {},
   "outputs": [],
   "source": [
    "import plotly.express as px\n",
    "import matplotlib\n",
    "import matplotlib.pyplot as plt\n",
    "import seaborn as sns\n",
    "%matplotlib inline\n",
    "\n",
    "sns.set_style('darkgrid')\n",
    "matplotlib.rcParams['font.size']=14\n",
    "matplotlib.rcParams['figure.figsize']=(10,6)\n",
    "matplotlib.rcParams['figure.facecolor']='#00000000'"
   ]
  },
  {
   "cell_type": "code",
   "execution_count": null,
   "id": "0d6bd17f",
   "metadata": {},
   "outputs": [],
   "source": [
    "px.histogram(raw_df,x='Location',title='Location vs Rainy Days',color='RainToday')"
   ]
  },
  {
   "cell_type": "code",
   "execution_count": null,
   "id": "85d85497",
   "metadata": {},
   "outputs": [],
   "source": [
    "px.histogram(raw_df,x='Temp3pm',title='Temperature at 3pm vs Rain Tomorrow',color='RainTomorrow')"
   ]
  },
  {
   "cell_type": "code",
   "execution_count": null,
   "id": "0e376315",
   "metadata": {},
   "outputs": [],
   "source": [
    "px.histogram(raw_df,x='RainTomorrow',color='RainToday',title='Rain Tomorrow vs Rain Today')"
   ]
  },
  {
   "cell_type": "code",
   "execution_count": null,
   "id": "17349ba3",
   "metadata": {},
   "outputs": [],
   "source": [
    "px.scatter(raw_df.sample(2000),\n",
    "           title='Min Temp. vs Max Temp.',\n",
    "           x='MinTemp',\n",
    "           y='MaxTemp',\n",
    "           color='RainToday')"
   ]
  },
  {
   "cell_type": "code",
   "execution_count": null,
   "id": "ef9f3760",
   "metadata": {},
   "outputs": [],
   "source": [
    "px.scatter(raw_df.sample(2000),\n",
    "           title='Temp (3pm) vs Humidity (30pm)',\n",
    "           x='Temp3pm',\n",
    "           y='Humidity3pm',\n",
    "           color='RainTomorrow')"
   ]
  },
  {
   "cell_type": "markdown",
   "id": "0bbca6ac",
   "metadata": {},
   "source": [
    "## (Optional) Working with a Sample\n",
    "\n",
    "When working with massive datasets containing millions of rows, it's a good idea to work with a sample initially, to quickly set up your model training notebook. If you'd like to work with a sample, just set the value of `use_sample` to `True`."
   ]
  },
  {
   "cell_type": "code",
   "execution_count": null,
   "id": "a9d89f3b",
   "metadata": {},
   "outputs": [],
   "source": [
    "use_sample=False"
   ]
  },
  {
   "cell_type": "code",
   "execution_count": null,
   "id": "a5f77e3f",
   "metadata": {},
   "outputs": [],
   "source": [
    "sample_fraction=0.1"
   ]
  },
  {
   "cell_type": "code",
   "execution_count": null,
   "id": "2dc3c1c4",
   "metadata": {},
   "outputs": [],
   "source": [
    "if use_sample:\n",
    "    raw_df=raw_df.sample(frac=sample_fraction).copy()"
   ]
  },
  {
   "cell_type": "markdown",
   "id": "bc63d48d",
   "metadata": {},
   "source": [
    "Make sure to set `use_sample` to `False` and re-run the notebook end-to-end once you're ready to use the entire dataset."
   ]
  },
  {
   "cell_type": "markdown",
   "id": "1a7d08be",
   "metadata": {},
   "source": [
    "## Training, Validation and Test Sets\n",
    "\n",
    "While building real-world machine learning models, it is quite common to split the dataset into three parts:\n",
    "\n",
    "1. **Training set** - used to train the model, i.e., compute the loss and adjust the model's weights using an optimization technique. \n",
    "\n",
    "\n",
    "2. **Validation set** - used to evaluate the model during training, tune model hyperparameters (optimization technique, regularization etc.), and pick the best version of the model. Picking a good validation set is essential for training models that generalize well. [Learn more here.](https://www.fast.ai/2017/11/13/validation-sets/)\n",
    "\n",
    "\n",
    "3. **Test set** - used to compare different models or approaches and report the model's final accuracy. For many datasets, test sets are provided separately. The test set should reflect the kind of data the model will encounter in the real-world, as closely as feasible.\n",
    "\n",
    "\n",
    "<img src=\"https://i.imgur.com/j8eITrK.png\" width=\"480\">\n",
    "\n",
    "\n",
    "As a general rule of thumb you can use around 60% of the data for the training set, 20% for the validation set and 20% for the test set. If a separate test set is already provided, you can use a 75%-25% training-validation split.\n",
    "\n",
    "\n",
    "When rows in the dataset have no inherent order, it's common practice to pick random subsets of rows for creating test and validation sets. This can be done using the `train_test_split` utility from `scikit-learn`. Learn more about it here: https://scikit-learn.org/stable/modules/generated/sklearn.model_selection.train_test_split.html"
   ]
  },
  {
   "cell_type": "code",
   "execution_count": null,
   "id": "5856b203",
   "metadata": {},
   "outputs": [],
   "source": [
    "%pip install scikit-learn --upgrade"
   ]
  },
  {
   "cell_type": "code",
   "execution_count": null,
   "id": "42f2a350",
   "metadata": {},
   "outputs": [],
   "source": [
    "from sklearn.model_selection import train_test_split"
   ]
  },
  {
   "cell_type": "code",
   "execution_count": null,
   "id": "270508e6",
   "metadata": {},
   "outputs": [],
   "source": [
    "train_val_df, test_df=train_test_split(raw_df,test_size=0.2,random_state=42)\n",
    "train_df,val_df=train_test_split(train_val_df,test_size=0.25,random_state=42)"
   ]
  },
  {
   "cell_type": "code",
   "execution_count": null,
   "id": "71ae5830",
   "metadata": {},
   "outputs": [],
   "source": [
    "print('train_df.shape: ',train_df.shape)\n",
    "print('val_df.shape: ',val_df.shape)\n",
    "print('test_df.shape: ',test_df.shape)"
   ]
  },
  {
   "cell_type": "markdown",
   "id": "f838a9e7",
   "metadata": {},
   "source": [
    "However, while working with dates, it's often a better idea to separate the training, validation and test sets with time, so that the model is trained on data from the past and evaluated on data from the future.\n",
    "\n",
    "For the current dataset, we can use the Date column in the dataset to create another column for year. We'll pick the last two years for the test set, and one year before it for the validation set."
   ]
  },
  {
   "cell_type": "code",
   "execution_count": null,
   "id": "d140e5f7",
   "metadata": {},
   "outputs": [],
   "source": [
    "plt.title('No. of Rows per Year')\n",
    "sns.countplot(x=pd.to_datetime(raw_df.Date).dt.year)"
   ]
  },
  {
   "cell_type": "code",
   "execution_count": null,
   "id": "035f3dc2",
   "metadata": {},
   "outputs": [],
   "source": [
    "year=pd.to_datetime(raw_df.Date).dt.year\n",
    "\n",
    "train_df=raw_df[year<2015]\n",
    "val_df=raw_df[year==2015]\n",
    "test_df=raw_df[year>2015]"
   ]
  },
  {
   "cell_type": "code",
   "execution_count": null,
   "id": "894f92a4",
   "metadata": {},
   "outputs": [],
   "source": [
    "print('train_df.shape: ',train_df.shape)\n",
    "print('val_df.shape: ',val_df.shape)\n",
    "print('test_df.shape: ',test_df.shape)"
   ]
  },
  {
   "cell_type": "markdown",
   "id": "3a52c65f",
   "metadata": {},
   "source": [
    "While not a perfect 60-20-20 split, we have ensured that the test validation and test sets both contain data for all 12 months of the year."
   ]
  },
  {
   "cell_type": "code",
   "execution_count": null,
   "id": "f6f11c30",
   "metadata": {},
   "outputs": [],
   "source": [
    "train_df"
   ]
  },
  {
   "cell_type": "code",
   "execution_count": null,
   "id": "763a5d5e",
   "metadata": {},
   "outputs": [],
   "source": [
    "val_df"
   ]
  },
  {
   "cell_type": "code",
   "execution_count": null,
   "id": "b17475cc",
   "metadata": {},
   "outputs": [],
   "source": [
    "test_df"
   ]
  },
  {
   "cell_type": "markdown",
   "id": "40da744d",
   "metadata": {},
   "source": [
    "## Identifying Input and Target Columns\n",
    "\n",
    "Often, not all the columns in a dataset are useful for training a model. In the current dataset, we can ignore the `Date` column, since we only want to weather conditions to make a prediction about whether it will rain the next day.\n",
    "\n",
    "Let's create a list of input columns, and also identify the target column."
   ]
  },
  {
   "cell_type": "code",
   "execution_count": null,
   "id": "b538a867",
   "metadata": {},
   "outputs": [],
   "source": [
    "input_cols=list(train_df.columns)[1:-1]\n",
    "target_col='RainTomorrow'"
   ]
  },
  {
   "cell_type": "code",
   "execution_count": null,
   "id": "844ce485",
   "metadata": {},
   "outputs": [],
   "source": [
    "print(input_cols)"
   ]
  },
  {
   "cell_type": "code",
   "execution_count": null,
   "id": "38de96ea",
   "metadata": {},
   "outputs": [],
   "source": [
    "target_col"
   ]
  },
  {
   "cell_type": "markdown",
   "id": "61a6a27f",
   "metadata": {},
   "source": [
    "We can now create inputs and targets for the training, validation and test sets for further processing and model training."
   ]
  },
  {
   "cell_type": "code",
   "execution_count": null,
   "id": "f2606e4c",
   "metadata": {},
   "outputs": [],
   "source": [
    "train_inputs=train_df[input_cols].copy()\n",
    "train_targets=train_df[target_col].copy()"
   ]
  },
  {
   "cell_type": "code",
   "execution_count": null,
   "id": "7b315e1c",
   "metadata": {},
   "outputs": [],
   "source": [
    "val_inputs=val_df[input_cols].copy()\n",
    "val_targets=val_df[target_col].copy()"
   ]
  },
  {
   "cell_type": "code",
   "execution_count": null,
   "id": "cef64569",
   "metadata": {},
   "outputs": [],
   "source": [
    "test_inputs=test_df[input_cols].copy()\n",
    "test_targets=test_df[target_col].copy()"
   ]
  },
  {
   "cell_type": "code",
   "execution_count": null,
   "id": "94e42005",
   "metadata": {},
   "outputs": [],
   "source": [
    "train_inputs"
   ]
  },
  {
   "cell_type": "code",
   "execution_count": null,
   "id": "faaf4fca",
   "metadata": {},
   "outputs": [],
   "source": [
    "train_targets"
   ]
  },
  {
   "cell_type": "markdown",
   "id": "23931dca",
   "metadata": {},
   "source": [
    "Let's also identify which of the columns are numerical and which ones are categorical. This will be useful later, as we'll need to convert the categorical data to numbers for training a logistic regression model."
   ]
  },
  {
   "cell_type": "code",
   "execution_count": null,
   "id": "7e6c56f7",
   "metadata": {},
   "outputs": [],
   "source": [
    "%pip install numpy "
   ]
  },
  {
   "cell_type": "code",
   "execution_count": null,
   "id": "0a204b7c",
   "metadata": {},
   "outputs": [],
   "source": [
    "import numpy as np"
   ]
  },
  {
   "cell_type": "code",
   "execution_count": null,
   "id": "97352ab9",
   "metadata": {},
   "outputs": [],
   "source": [
    "numeric_cols=train_inputs.select_dtypes(include=np.number).columns.tolist()\n",
    "categorical_cols=train_inputs.select_dtypes('object').columns.tolist()"
   ]
  },
  {
   "cell_type": "markdown",
   "id": "756c4530",
   "metadata": {},
   "source": [
    "Let's view some statistics for the numeric columns."
   ]
  },
  {
   "cell_type": "code",
   "execution_count": null,
   "id": "ff1a580c",
   "metadata": {},
   "outputs": [],
   "source": [
    "train_inputs[numeric_cols].describe()"
   ]
  },
  {
   "cell_type": "markdown",
   "id": "617ce64d",
   "metadata": {},
   "source": [
    "Let's also check the number of categories in each of the categorical columns."
   ]
  },
  {
   "cell_type": "code",
   "execution_count": null,
   "id": "6954573a",
   "metadata": {},
   "outputs": [],
   "source": [
    "train_inputs[categorical_cols].nunique()"
   ]
  },
  {
   "cell_type": "markdown",
   "id": "a36cd929",
   "metadata": {},
   "source": [
    "## Imputing Missing Numeric Data\n",
    "\n",
    "Machine learning models can't work with missing numerical data. The process of filling missing values is called imputation.\n",
    "\n",
    "<img src=\"https://i.imgur.com/W7cfyOp.png\" width=\"480\">\n",
    "\n",
    "There are several techniques for imputation, but we'll use the most basic one: replacing missing values with the average value in the column using the `SimpleImputer` class from `sklearn.impute`."
   ]
  },
  {
   "cell_type": "code",
   "execution_count": null,
   "id": "c8c49ae8",
   "metadata": {},
   "outputs": [],
   "source": [
    "from sklearn.impute import SimpleImputer"
   ]
  },
  {
   "cell_type": "code",
   "execution_count": null,
   "id": "0f909a35",
   "metadata": {},
   "outputs": [],
   "source": [
    "imputer=SimpleImputer(strategy='mean')"
   ]
  },
  {
   "cell_type": "markdown",
   "id": "85f20b86",
   "metadata": {},
   "source": [
    "Before we perform imputation, let's check the no. of missing values in each numeric column."
   ]
  },
  {
   "cell_type": "code",
   "execution_count": null,
   "id": "1820133c",
   "metadata": {},
   "outputs": [],
   "source": [
    "raw_df[numeric_cols].isna().sum()"
   ]
  },
  {
   "cell_type": "markdown",
   "id": "9873b431",
   "metadata": {},
   "source": [
    "These values are spread across the training, test and validation sets. You can also check the no. of missing values individually for `train_inputs`, `val_inputs` and `test_inputs`."
   ]
  },
  {
   "cell_type": "code",
   "execution_count": null,
   "id": "dd35eec1",
   "metadata": {},
   "outputs": [],
   "source": [
    "train_inputs[numeric_cols].isna().sum"
   ]
  },
  {
   "cell_type": "markdown",
   "id": "0c19755c",
   "metadata": {},
   "source": [
    "The first step in imputation is to `fit` the imputer to the data i.e. compute the chosen statistic (e.g. mean) for each column in the dataset. "
   ]
  },
  {
   "cell_type": "code",
   "execution_count": null,
   "id": "be346291",
   "metadata": {},
   "outputs": [],
   "source": [
    "imputer.fit(raw_df[numeric_cols])"
   ]
  },
  {
   "cell_type": "markdown",
   "id": "cbc340a7",
   "metadata": {},
   "source": [
    "After calling `fit`, the computed statistic for each column is stored in the `statistics_` property of `imputer`."
   ]
  },
  {
   "cell_type": "code",
   "execution_count": null,
   "id": "6a1c4068",
   "metadata": {},
   "outputs": [],
   "source": [
    "list(imputer.statistics_)"
   ]
  },
  {
   "cell_type": "markdown",
   "id": "841e90a9",
   "metadata": {},
   "source": [
    "The missing values in the training, test and validation sets can now be filled in using the `transform` method of `imputer`."
   ]
  },
  {
   "cell_type": "code",
   "execution_count": null,
   "id": "3b8d1010",
   "metadata": {},
   "outputs": [],
   "source": [
    "train_inputs[numeric_cols]=imputer.transform(train_inputs[numeric_cols])\n",
    "val_inputs[numeric_cols]=imputer.transform(val_inputs[numeric_cols])\n",
    "test_inputs[numeric_cols]=imputer.transform(test_inputs[numeric_cols])"
   ]
  },
  {
   "cell_type": "markdown",
   "id": "a70d06f4",
   "metadata": {},
   "source": [
    "The missing values are now filled in with the mean of each column."
   ]
  },
  {
   "cell_type": "code",
   "execution_count": null,
   "id": "b5a50543",
   "metadata": {},
   "outputs": [],
   "source": [
    "train_inputs[numeric_cols].isna().sum()"
   ]
  },
  {
   "cell_type": "markdown",
   "id": "418634a6",
   "metadata": {},
   "source": [
    "## Scaling Numeric Features\n",
    "\n",
    "Another good practice is to scale numeric features to a small range of values e.g. $(0,1)$ or $(-1,1)$. Scaling numeric features ensures that no particular feature has a disproportionate impact on the model's loss. Optimization algorithms also work better in practice with smaller numbers.\n",
    "\n",
    "The numeric columns in our dataset have varying ranges."
   ]
  },
  {
   "cell_type": "code",
   "execution_count": null,
   "id": "b4a30020",
   "metadata": {},
   "outputs": [],
   "source": [
    "raw_df[numeric_cols].describe()"
   ]
  },
  {
   "cell_type": "markdown",
   "id": "dc54a916",
   "metadata": {},
   "source": [
    "Let's use `MinMaxScaler` from `sklearn.preprocessing` to scale values to the $(0,1)$ range."
   ]
  },
  {
   "cell_type": "code",
   "execution_count": null,
   "id": "4f3866c2",
   "metadata": {},
   "outputs": [],
   "source": [
    "from sklearn.preprocessing import MinMaxScaler"
   ]
  },
  {
   "cell_type": "code",
   "execution_count": null,
   "id": "c6335d3b",
   "metadata": {},
   "outputs": [],
   "source": [
    "scaler=MinMaxScaler()"
   ]
  },
  {
   "cell_type": "markdown",
   "id": "3b306a33",
   "metadata": {},
   "source": [
    "First, we `fit` the scaler to the data i.e. compute the range of values for each numeric column."
   ]
  },
  {
   "cell_type": "code",
   "execution_count": null,
   "id": "ea407e54",
   "metadata": {},
   "outputs": [],
   "source": [
    "scaler.fit(raw_df[numeric_cols])"
   ]
  },
  {
   "cell_type": "markdown",
   "id": "ebe57ee1",
   "metadata": {},
   "source": [
    "We can now inspect the minimum and maximum values in each column."
   ]
  },
  {
   "cell_type": "code",
   "execution_count": null,
   "id": "9dfcdd45",
   "metadata": {},
   "outputs": [],
   "source": [
    "print('Minimum')\n",
    "list(scaler.data_min_)"
   ]
  },
  {
   "cell_type": "code",
   "execution_count": null,
   "id": "1c83eb7b",
   "metadata": {},
   "outputs": [],
   "source": [
    "print('Maximum: ')\n",
    "list(scaler.data_max_)"
   ]
  },
  {
   "cell_type": "markdown",
   "id": "d83b875b",
   "metadata": {},
   "source": [
    "We can now separately scale the training, validation and test sets using the `transform` method of `scaler`."
   ]
  },
  {
   "cell_type": "code",
   "execution_count": null,
   "id": "8c97830b",
   "metadata": {},
   "outputs": [],
   "source": [
    "train_inputs[numeric_cols]=scaler.transform(train_inputs[numeric_cols])\n",
    "val_inputs[numeric_cols]=scaler.transform(val_inputs[numeric_cols])\n",
    "test_inputs[numeric_cols]=scaler.transform(test_inputs[numeric_cols])"
   ]
  },
  {
   "cell_type": "markdown",
   "id": "59c8aff2",
   "metadata": {},
   "source": [
    "We can now verify that values in each column lie in the range $(0,1)$"
   ]
  },
  {
   "cell_type": "code",
   "execution_count": null,
   "id": "68b68d1e",
   "metadata": {},
   "outputs": [],
   "source": [
    "train_inputs[numeric_cols].describe()"
   ]
  },
  {
   "cell_type": "markdown",
   "id": "9b3dff1d",
   "metadata": {},
   "source": [
    "## Encoding Categorical Data\n",
    "\n",
    "Since machine learning models can only be trained with numeric data, we need to convert categorical data to numbers. A common technique is to use one-hot encoding for categorical columns.\n",
    "\n",
    "<img src=\"https://i.imgur.com/n8GuiOO.png\" width=\"640\">\n",
    "\n",
    "One hot encoding involves adding a new binary (0/1) column for each unique category of a categorical column. "
   ]
  },
  {
   "cell_type": "code",
   "execution_count": null,
   "id": "248b263b",
   "metadata": {},
   "outputs": [],
   "source": [
    "raw_df[categorical_cols].nunique()"
   ]
  },
  {
   "cell_type": "markdown",
   "id": "8f6889f1",
   "metadata": {},
   "source": [
    "We can perform one hot encoding using the `OneHotEncoder` class from `sklearn.preprocessing`."
   ]
  },
  {
   "cell_type": "code",
   "execution_count": null,
   "id": "0edfcf1b",
   "metadata": {},
   "outputs": [],
   "source": [
    "from sklearn.preprocessing import OneHotEncoder"
   ]
  },
  {
   "cell_type": "code",
   "execution_count": null,
   "id": "6f66e014",
   "metadata": {},
   "outputs": [],
   "source": [
    "encoder=OneHotEncoder(sparse_output=False,handle_unknown='ignore')"
   ]
  },
  {
   "cell_type": "markdown",
   "id": "05fa2d46",
   "metadata": {},
   "source": [
    "First, we `fit` the encoder to the data i.e. identify the full list of categories across all categorical columns."
   ]
  },
  {
   "cell_type": "code",
   "execution_count": null,
   "id": "b78c7b8e",
   "metadata": {},
   "outputs": [],
   "source": [
    "encoder.fit(raw_df[categorical_cols])"
   ]
  },
  {
   "cell_type": "code",
   "execution_count": null,
   "id": "266b258c",
   "metadata": {},
   "outputs": [],
   "source": [
    "encoder.categories_"
   ]
  },
  {
   "cell_type": "markdown",
   "id": "057aa3e3",
   "metadata": {},
   "source": [
    "The encoder has created a list of categories for each of the categorical columns in the dataset. \n",
    "\n",
    "We can generate column names for each individual category using `get_feature_names`."
   ]
  },
  {
   "cell_type": "code",
   "execution_count": null,
   "id": "6be9d494",
   "metadata": {},
   "outputs": [],
   "source": [
    "encoded_cols=list(encoder.get_feature_names_out(categorical_cols))\n",
    "print(encoded_cols)"
   ]
  },
  {
   "cell_type": "markdown",
   "id": "09c8a76a",
   "metadata": {},
   "source": [
    "All of the above columns will be added to `train_inputs`, `val_inputs` and `test_inputs`.\n",
    "\n",
    "To perform the encoding, we use the `transform` method of `encoder`."
   ]
  },
  {
   "cell_type": "code",
   "execution_count": null,
   "id": "0002189b",
   "metadata": {},
   "outputs": [],
   "source": [
    "train_inputs[encoded_cols]=encoder.transform(train_inputs[categorical_cols])\n",
    "val_inputs[encoded_cols]=encoder.transform(val_inputs[categorical_cols])\n",
    "test_inputs[encoded_cols]=encoder.transform(test_inputs[categorical_cols])"
   ]
  },
  {
   "cell_type": "markdown",
   "id": "752a6d0e",
   "metadata": {},
   "source": [
    "We can verify that these new columns have been added to our training, test and validation sets."
   ]
  },
  {
   "cell_type": "code",
   "execution_count": null,
   "id": "d6ca6270",
   "metadata": {},
   "outputs": [],
   "source": [
    "pd.set_option('display.max_columns',None)"
   ]
  },
  {
   "cell_type": "code",
   "execution_count": null,
   "id": "fdcb1e54",
   "metadata": {},
   "outputs": [],
   "source": [
    "test_inputs"
   ]
  },
  {
   "cell_type": "markdown",
   "id": "d159d53b",
   "metadata": {},
   "source": [
    "## Saving Processed Data to Disk\n",
    "\n",
    "It can be useful to save processed data to disk, especially for really large datasets, to avoid repeating the preprocessing steps every time you start the Jupyter notebook. The parquet format is a fast and efficient format for saving and loading Pandas dataframes."
   ]
  },
  {
   "cell_type": "code",
   "execution_count": null,
   "id": "8be84712",
   "metadata": {},
   "outputs": [],
   "source": [
    "print('train_inputs: ',train_inputs.shape)\n",
    "print('train_targets: ',train_targets.shape)\n",
    "print('val_inputs: ',val_inputs.shape)\n",
    "print('val_targets: ',val_targets.shape)\n",
    "print('test_inputs: ',test_inputs.shape)\n",
    "print('test_targets: ',test_targets.shape)"
   ]
  },
  {
   "cell_type": "code",
   "execution_count": null,
   "id": "2eff84bb",
   "metadata": {},
   "outputs": [],
   "source": [
    "%pip install pyarrow"
   ]
  },
  {
   "cell_type": "code",
   "execution_count": null,
   "id": "fb3af891",
   "metadata": {},
   "outputs": [],
   "source": [
    "train_inputs.to_parquet('train_inputs.parquet')\n",
    "val_inputs.to_parquet('val_inputs.parquet')\n",
    "test_inputs.to_parquet('test_inputs.parquet')"
   ]
  },
  {
   "cell_type": "code",
   "execution_count": null,
   "id": "89c17903",
   "metadata": {},
   "outputs": [],
   "source": [
    "%%time\n",
    "pd.DataFrame(train_targets).to_parquet('train_targets.parquet')\n",
    "pd.DataFrame(val_targets).to_parquet('val_targets.parquet')\n",
    "pd.DataFrame(test_targets).to_parquet('test_targets.parquet')"
   ]
  },
  {
   "cell_type": "markdown",
   "id": "ac36b15f",
   "metadata": {},
   "source": [
    "We can read the data back using `pd.read_parquet`."
   ]
  },
  {
   "cell_type": "code",
   "execution_count": null,
   "id": "3d6ff921",
   "metadata": {},
   "outputs": [],
   "source": [
    "%%time\n",
    "\n",
    "train_inputs = pd.read_parquet('train_inputs.parquet')\n",
    "val_inputs = pd.read_parquet('val_inputs.parquet')\n",
    "test_inputs = pd.read_parquet('test_inputs.parquet')\n",
    "\n",
    "train_targets = pd.read_parquet('train_targets.parquet')[target_col]\n",
    "val_targets = pd.read_parquet('val_targets.parquet')[target_col]\n",
    "test_targets = pd.read_parquet('test_targets.parquet')[target_col]"
   ]
  },
  {
   "cell_type": "markdown",
   "id": "a17e751b",
   "metadata": {},
   "source": [
    "Let's verify that the data was loaded properly."
   ]
  },
  {
   "cell_type": "code",
   "execution_count": null,
   "id": "ca4ea9ae",
   "metadata": {},
   "outputs": [],
   "source": [
    "print('train_inputs:', train_inputs.shape)\n",
    "print('train_targets:', train_targets.shape)\n",
    "print('val_inputs:', val_inputs.shape)\n",
    "print('val_targets:', val_targets.shape)\n",
    "print('test_inputs:', test_inputs.shape)\n",
    "print('test_targets:', test_targets.shape)"
   ]
  },
  {
   "cell_type": "code",
   "execution_count": null,
   "id": "8b55ef86",
   "metadata": {},
   "outputs": [],
   "source": [
    "val_inputs"
   ]
  },
  {
   "cell_type": "code",
   "execution_count": null,
   "id": "a41c9d61",
   "metadata": {},
   "outputs": [],
   "source": [
    "val_targets"
   ]
  },
  {
   "cell_type": "markdown",
   "id": "abae8436",
   "metadata": {},
   "source": [
    "## Training a Logistic Regression Model\n",
    "\n",
    "Logistic regression is a commonly used technique for solving binary classification problems. In a logistic regression model: \n",
    "\n",
    "- we take linear combination (or weighted sum of the input features) \n",
    "- we apply the sigmoid function to the result to obtain a number between 0 and 1\n",
    "- this number represents the probability of the input being classified as \"Yes\"\n",
    "- instead of RMSE, the cross entropy loss function is used to evaluate the results\n",
    "\n",
    "\n",
    "Here's a visual summary of how a logistic regression model is structured ([source](http://datahacker.rs/005-pytorch-logistic-regression-in-pytorch/)):\n",
    "\n",
    "\n",
    "<img src=\"https://i.imgur.com/YMaMo5D.png\" width=\"480\">\n",
    "\n",
    "The sigmoid function applied to the linear combination of inputs has the following formula:\n",
    "\n",
    "<img src=\"https://i.imgur.com/sAVwvZP.png\" width=\"400\">\n",
    "\n",
    "To train a logistic regression model, we can use the `LogisticRegression` class from Scikit-learn."
   ]
  },
  {
   "cell_type": "code",
   "execution_count": null,
   "id": "b50a6730",
   "metadata": {},
   "outputs": [],
   "source": [
    "from sklearn.linear_model import LogisticRegression"
   ]
  },
  {
   "cell_type": "code",
   "execution_count": null,
   "id": "84bed07b",
   "metadata": {},
   "outputs": [],
   "source": [
    "model=LogisticRegression(solver='liblinear')"
   ]
  },
  {
   "cell_type": "markdown",
   "id": "49491643",
   "metadata": {},
   "source": [
    "We can train the model using `model.fit`."
   ]
  },
  {
   "cell_type": "code",
   "execution_count": null,
   "id": "8a3924ff",
   "metadata": {},
   "outputs": [],
   "source": [
    "model.fit(train_inputs[numeric_cols+encoded_cols],train_targets)"
   ]
  },
  {
   "cell_type": "markdown",
   "id": "b6e042e7",
   "metadata": {},
   "source": [
    "`model.fit` uses the following workflow for training the model ([source](https://www.deepnetts.com/blog/from-basic-machine-learning-to-deep-learning-in-5-minutes.html)):\n",
    "\n",
    "1. We initialize a model with random parameters (weights & biases).\n",
    "2. We pass some inputs into the model to obtain predictions.\n",
    "3. We compare the model's predictions with the actual targets using the loss function.  \n",
    "4. We use an optimization technique (like least squares, gradient descent etc.) to reduce the loss by adjusting the weights & biases of the model\n",
    "5. We repeat steps 1 to 4 till the predictions from the model are good enough.\n",
    "\n",
    "\n",
    "<img src=\"https://www.deepnetts.com/blog/wp-content/uploads/2019/02/SupervisedLearning.png\" width=\"480\">"
   ]
  },
  {
   "cell_type": "markdown",
   "id": "1948c15d",
   "metadata": {},
   "source": [
    "Let's check the weights and biases of the trained model."
   ]
  },
  {
   "cell_type": "code",
   "execution_count": null,
   "id": "96a4f3cc",
   "metadata": {},
   "outputs": [],
   "source": [
    "print(numeric_cols+categorical_cols)"
   ]
  },
  {
   "cell_type": "code",
   "execution_count": null,
   "id": "fdd1afd0",
   "metadata": {},
   "outputs": [],
   "source": [
    "print(model.coef_.tolist())"
   ]
  },
  {
   "cell_type": "code",
   "execution_count": null,
   "id": "b1d147bf",
   "metadata": {},
   "outputs": [],
   "source": [
    "print(model.intercept_)"
   ]
  },
  {
   "cell_type": "markdown",
   "id": "38f26aff",
   "metadata": {},
   "source": [
    "## Making Predictions and Evaluating the Model\n",
    "\n",
    "We can now use the trained model to make predictions on the training, test "
   ]
  },
  {
   "cell_type": "code",
   "execution_count": null,
   "id": "e449a28a",
   "metadata": {},
   "outputs": [],
   "source": [
    "X_train = train_inputs[numeric_cols + encoded_cols]\n",
    "X_val = val_inputs[numeric_cols + encoded_cols]\n",
    "X_test = test_inputs[numeric_cols + encoded_cols]"
   ]
  },
  {
   "cell_type": "code",
   "execution_count": null,
   "id": "a0edbbeb",
   "metadata": {},
   "outputs": [],
   "source": [
    "train_preds=model.predict(X_train)"
   ]
  },
  {
   "cell_type": "code",
   "execution_count": null,
   "id": "5ef028d5",
   "metadata": {},
   "outputs": [],
   "source": [
    "train_preds"
   ]
  },
  {
   "cell_type": "code",
   "execution_count": null,
   "id": "cf87d2e2",
   "metadata": {},
   "outputs": [],
   "source": [
    "train_targets"
   ]
  },
  {
   "cell_type": "markdown",
   "id": "32408d22",
   "metadata": {},
   "source": [
    "We can output a probabilistic prediction using `predict_proba`."
   ]
  },
  {
   "cell_type": "code",
   "execution_count": null,
   "id": "caf048bc",
   "metadata": {},
   "outputs": [],
   "source": [
    "train_probs=model.predict_proba(X_train)\n",
    "train_probs"
   ]
  },
  {
   "cell_type": "markdown",
   "id": "585cbf2e",
   "metadata": {},
   "source": [
    "The numbers above indicate the probabilities for the target classes \"No\" and \"Yes\".\n"
   ]
  },
  {
   "cell_type": "code",
   "execution_count": null,
   "id": "4636e162",
   "metadata": {},
   "outputs": [],
   "source": [
    "model.classes_"
   ]
  },
  {
   "cell_type": "markdown",
   "id": "fa6b3504",
   "metadata": {},
   "source": [
    "We can test the accuracy of the model's predictions by computing the percentage of matching values in `train_preds` and `train_targets`.\n",
    "\n",
    "This can be done using the `accuracy_score` function from `sklearn.metrics`."
   ]
  },
  {
   "cell_type": "code",
   "execution_count": null,
   "id": "33885932",
   "metadata": {},
   "outputs": [],
   "source": [
    "from sklearn.metrics import accuracy_score"
   ]
  },
  {
   "cell_type": "code",
   "execution_count": null,
   "id": "1b7e7eff",
   "metadata": {},
   "outputs": [],
   "source": [
    "accuracy_score(train_targets,train_preds)"
   ]
  },
  {
   "cell_type": "markdown",
   "id": "1905f386",
   "metadata": {},
   "source": [
    "The model achieves an accuracy of 85.2% on the training set. We can visualize the breakdown of correctly and incorrectly classified inputs using a confusion matrix.\n",
    "\n",
    "<img src=\"https://i.imgur.com/UM28BCN.png\" width=\"480\">"
   ]
  },
  {
   "cell_type": "code",
   "execution_count": null,
   "id": "a24b58cf",
   "metadata": {},
   "outputs": [],
   "source": [
    "from sklearn.metrics import confusion_matrix"
   ]
  },
  {
   "cell_type": "code",
   "execution_count": null,
   "id": "303cfe13",
   "metadata": {},
   "outputs": [],
   "source": [
    "confusion_matrix(train_targets,train_preds,normalize='true')"
   ]
  },
  {
   "cell_type": "markdown",
   "id": "c8b91ddf",
   "metadata": {},
   "source": [
    "Let's define a helper function to generate predictions, compute the accuracy score and plot a confusion matrix for a given st of inputs."
   ]
  },
  {
   "cell_type": "code",
   "execution_count": null,
   "id": "79b68ec9",
   "metadata": {},
   "outputs": [],
   "source": [
    "def predict_and_plot(inputs,targets,name=''):\n",
    "    preds=model.predict(inputs)\n",
    "\n",
    "    accuracy=accuracy_score(targets,preds)\n",
    "    print('Accuracy: {:.2f}%'.format(accuracy*100))\n",
    "\n",
    "    cf=confusion_matrix(targets,preds,normalize='true')\n",
    "    plt.figure()\n",
    "    sns.heatmap(cf,annot=True)\n",
    "    plt.xlabel('Prediction')\n",
    "    plt.ylabel('Target')\n",
    "    plt.title('{} Confusion Matrix'.format(name))\n",
    "\n",
    "    return preds\n"
   ]
  },
  {
   "cell_type": "code",
   "execution_count": null,
   "id": "381228fb",
   "metadata": {},
   "outputs": [],
   "source": [
    "train_preds=predict_and_plot(X_train,train_targets,'Training')"
   ]
  },
  {
   "cell_type": "markdown",
   "id": "c3d387df",
   "metadata": {},
   "source": [
    "Let's compute the model's accuracy on the validation and test sets too."
   ]
  },
  {
   "cell_type": "code",
   "execution_count": null,
   "id": "e1d156b2",
   "metadata": {},
   "outputs": [],
   "source": [
    "val_preds=predict_and_plot(X_val,val_targets,'Validation')"
   ]
  },
  {
   "cell_type": "code",
   "execution_count": null,
   "id": "74e2a218",
   "metadata": {},
   "outputs": [],
   "source": [
    "test_preds=predict_and_plot(X_test,test_targets,'Test')"
   ]
  },
  {
   "cell_type": "markdown",
   "id": "119fd3a5",
   "metadata": {},
   "source": [
    "The accuracy of the model on the test and validation set are above 84%, which suggests that our model generalizes well to data it hasn't seen before. \n",
    "\n",
    "But how good is 84% accuracy? While this depends on the nature of the problem and on business requirements, a good way to verify whether a model has actually learned something useful is to compare its results to a \"random\" or \"dumb\" model.\n",
    "\n",
    "Let's create two models: one that guesses randomly and another that always return \"No\". Both of these models completely ignore the inputs given to them."
   ]
  },
  {
   "cell_type": "code",
   "execution_count": null,
   "id": "161ebf4e",
   "metadata": {},
   "outputs": [],
   "source": [
    "def random_guess(inputs):\n",
    "    return np.random.choice(['No','Yes'],len(inputs))"
   ]
  },
  {
   "cell_type": "code",
   "execution_count": null,
   "id": "2e8b65a3",
   "metadata": {},
   "outputs": [],
   "source": [
    "def all_no(inputs):\n",
    "    return np.full(len(inputs),'No')"
   ]
  },
  {
   "cell_type": "markdown",
   "id": "f3f43637",
   "metadata": {},
   "source": [
    "Let's check the accuracies of these two models on the test set."
   ]
  },
  {
   "cell_type": "code",
   "execution_count": null,
   "id": "c8ff7e48",
   "metadata": {},
   "outputs": [],
   "source": [
    "accuracy_score(test_targets,random_guess(X_test))"
   ]
  },
  {
   "cell_type": "code",
   "execution_count": null,
   "id": "d6bf4af7",
   "metadata": {},
   "outputs": [],
   "source": [
    "accuracy_score(test_targets,all_no(X_test))"
   ]
  },
  {
   "cell_type": "markdown",
   "id": "3829dc62",
   "metadata": {},
   "source": [
    "Our random model achieves an accuracy of 50% and our \"always No\" model achieves an accuracy of 77%. \n",
    "\n",
    "Thankfully, our model is better than a \"dumb\" or \"random\" model! This is not always the case, so it's a good practice to benchmark any model you train against such baseline models."
   ]
  },
  {
   "cell_type": "markdown",
   "id": "76d34015",
   "metadata": {},
   "source": [
    "## Making Predictions on a Single Input\n",
    "\n",
    "Once the model has been trained to a satisfactory accuracy, it can be used to make predictions on new data. Consider the following dictionary containing data collected from the Katherine weather department today."
   ]
  },
  {
   "cell_type": "code",
   "execution_count": null,
   "id": "08781285",
   "metadata": {},
   "outputs": [],
   "source": [
    "new_input = {'Date': '2021-06-19',\n",
    "             'Location': 'Katherine',\n",
    "             'MinTemp': 23.2,\n",
    "             'MaxTemp': 33.2,\n",
    "             'Rainfall': 10.2,\n",
    "             'Evaporation': 4.2,\n",
    "             'Sunshine': np.nan,\n",
    "             'WindGustDir': 'NNW',\n",
    "             'WindGustSpeed': 52.0,\n",
    "             'WindDir9am': 'NW',\n",
    "             'WindDir3pm': 'NNE',\n",
    "             'WindSpeed9am': 13.0,\n",
    "             'WindSpeed3pm': 20.0,\n",
    "             'Humidity9am': 89.0,\n",
    "             'Humidity3pm': 58.0,\n",
    "             'Pressure9am': 1004.8,\n",
    "             'Pressure3pm': 1001.5,\n",
    "             'Cloud9am': 8.0,\n",
    "             'Cloud3pm': 5.0,\n",
    "             'Temp9am': 25.7,\n",
    "             'Temp3pm': 33.0,\n",
    "             'RainToday': 'Yes'}"
   ]
  },
  {
   "cell_type": "markdown",
   "id": "6afb4351",
   "metadata": {},
   "source": [
    "The first step is to convert the dictionary into a Pandas dataframe, similar to `raw_df`. This can be done by passing a list containing the given dictionary to the `pd.DataFrame` constructor."
   ]
  },
  {
   "cell_type": "code",
   "execution_count": null,
   "id": "eeb448f0",
   "metadata": {},
   "outputs": [],
   "source": [
    "new_input_df=pd.DataFrame([new_input])"
   ]
  },
  {
   "cell_type": "code",
   "execution_count": null,
   "id": "ba6e9cb7",
   "metadata": {},
   "outputs": [],
   "source": [
    "new_input_df"
   ]
  },
  {
   "cell_type": "markdown",
   "id": "39dd0018",
   "metadata": {},
   "source": [
    "We've now created a Pandas dataframe with the same columns as `raw_df` (except `RainTomorrow`, which needs to be predicted). The dataframe contains just one row of data, containing the given input.\n",
    "\n",
    "\n",
    "We must now apply the same transformations applied while training the model:\n",
    "\n",
    "1. Imputation of missing values using the `imputer` created earlier\n",
    "2. Scaling numerical features using the `scaler` created earlier\n",
    "3. Encoding categorical features using the `encoder` created earlier"
   ]
  },
  {
   "cell_type": "code",
   "execution_count": null,
   "id": "b824a1cf",
   "metadata": {},
   "outputs": [],
   "source": [
    "new_input_df[numeric_cols] = imputer.transform(new_input_df[numeric_cols])\n",
    "new_input_df[numeric_cols] = scaler.transform(new_input_df[numeric_cols])\n",
    "new_input_df[encoded_cols] = encoder.transform(new_input_df[categorical_cols])"
   ]
  },
  {
   "cell_type": "code",
   "execution_count": null,
   "id": "f0bcdf28",
   "metadata": {},
   "outputs": [],
   "source": [
    "X_new_input = new_input_df[numeric_cols + encoded_cols]\n",
    "X_new_input"
   ]
  },
  {
   "cell_type": "markdown",
   "id": "2ea933ea",
   "metadata": {},
   "source": [
    "We can now make a prediction using `model.predict`."
   ]
  },
  {
   "cell_type": "code",
   "execution_count": null,
   "id": "2821373d",
   "metadata": {},
   "outputs": [],
   "source": [
    "prediction=model.predict(X_new_input)[0]"
   ]
  },
  {
   "cell_type": "code",
   "execution_count": null,
   "id": "ed56d6e0",
   "metadata": {},
   "outputs": [],
   "source": [
    "prediction"
   ]
  },
  {
   "cell_type": "markdown",
   "id": "e7db4490",
   "metadata": {},
   "source": [
    "Our model predicts that it will rain tomorrow in Katherine! We can also check the probability of the prediction."
   ]
  },
  {
   "cell_type": "code",
   "execution_count": null,
   "id": "9201e6a5",
   "metadata": {},
   "outputs": [],
   "source": [
    "prob=model.predict_proba(X_new_input)[0]"
   ]
  },
  {
   "cell_type": "code",
   "execution_count": null,
   "id": "7b31bfde",
   "metadata": {},
   "outputs": [],
   "source": [
    "prob"
   ]
  },
  {
   "cell_type": "markdown",
   "id": "0bd745d7",
   "metadata": {},
   "source": [
    "Looks like our model isn't too confident about its prediction!"
   ]
  },
  {
   "cell_type": "markdown",
   "id": "2c474064",
   "metadata": {},
   "source": [
    "Let's define a helper function to make predictions for individual inputs."
   ]
  },
  {
   "cell_type": "code",
   "execution_count": null,
   "id": "f1f8ab9a",
   "metadata": {},
   "outputs": [],
   "source": [
    "def predict_input(single_input):\n",
    "    input_df = pd.DataFrame([single_input])\n",
    "    input_df[numeric_cols] = imputer.transform(input_df[numeric_cols])\n",
    "    input_df[numeric_cols] = scaler.transform(input_df[numeric_cols])\n",
    "    input_df[encoded_cols] = encoder.transform(input_df[categorical_cols])\n",
    "    X_input = input_df[numeric_cols + encoded_cols]\n",
    "    pred = model.predict(X_input)[0]\n",
    "    prob = model.predict_proba(X_input)[0][list(model.classes_).index(pred)]\n",
    "    return pred, prob"
   ]
  },
  {
   "cell_type": "markdown",
   "id": "bfcde3af",
   "metadata": {},
   "source": [
    "We can now use this function to make predictions for individual inputs."
   ]
  },
  {
   "cell_type": "code",
   "execution_count": null,
   "id": "bb16a4b5",
   "metadata": {},
   "outputs": [],
   "source": [
    "new_input = {'Date': '2021-06-19',\n",
    "             'Location': 'Launceston',\n",
    "             'MinTemp': 23.2,\n",
    "             'MaxTemp': 33.2,\n",
    "             'Rainfall': 10.2,\n",
    "             'Evaporation': 4.2,\n",
    "             'Sunshine': np.nan,\n",
    "             'WindGustDir': 'NNW',\n",
    "             'WindGustSpeed': 52.0,\n",
    "             'WindDir9am': 'NW',\n",
    "             'WindDir3pm': 'NNE',\n",
    "             'WindSpeed9am': 13.0,\n",
    "             'WindSpeed3pm': 20.0,\n",
    "             'Humidity9am': 89.0,\n",
    "             'Humidity3pm': 58.0,\n",
    "             'Pressure9am': 1004.8,\n",
    "             'Pressure3pm': 1001.5,\n",
    "             'Cloud9am': 8.0,\n",
    "             'Cloud3pm': 5.0,\n",
    "             'Temp9am': 25.7,\n",
    "             'Temp3pm': 33.0,\n",
    "             'RainToday': 'Yes'}"
   ]
  },
  {
   "cell_type": "code",
   "execution_count": null,
   "id": "5234c8f9",
   "metadata": {},
   "outputs": [],
   "source": [
    "predict_input(new_input)"
   ]
  },
  {
   "cell_type": "code",
   "execution_count": null,
   "id": "3ab16445",
   "metadata": {},
   "outputs": [],
   "source": [
    "raw_df.Location.unique()"
   ]
  },
  {
   "cell_type": "markdown",
   "id": "a2bba404",
   "metadata": {},
   "source": [
    "## Saving and Loading Trained Models\n",
    "\n",
    "We can save the parameters (weights and biases) of our trained model to disk, so that we needn't retrain the model from scratch each time we wish to use it. Along with the model, it's also important to save imputers, scalers, encoders and even column names. Anything that will be required while generating predictions using the model should be saved.\n",
    "\n",
    "We can use the `joblib` module to save and load Python objects on the disk. "
   ]
  },
  {
   "cell_type": "code",
   "execution_count": null,
   "id": "0f946871",
   "metadata": {},
   "outputs": [],
   "source": [
    "import joblib"
   ]
  },
  {
   "cell_type": "markdown",
   "id": "1be96d8a",
   "metadata": {},
   "source": [
    "Let's first create a dictionary containing all the required objects."
   ]
  },
  {
   "cell_type": "code",
   "execution_count": null,
   "id": "bfd8a532",
   "metadata": {},
   "outputs": [],
   "source": [
    "aussie_rain = {\n",
    "    'model': model,\n",
    "    'imputer': imputer,\n",
    "    'scaler': scaler,\n",
    "    'encoder': encoder,\n",
    "    'input_cols': input_cols,\n",
    "    'target_col': target_col,\n",
    "    'numeric_cols': numeric_cols,\n",
    "    'categorical_cols': categorical_cols,\n",
    "    'encoded_cols': encoded_cols\n",
    "}"
   ]
  },
  {
   "cell_type": "markdown",
   "id": "9a426bfd",
   "metadata": {},
   "source": [
    "We can now save this to a file using `joblib.dump`"
   ]
  },
  {
   "cell_type": "code",
   "execution_count": null,
   "id": "176ded55",
   "metadata": {},
   "outputs": [],
   "source": [
    "joblib.dump(aussie_rain,'aussie_rain.joblib')"
   ]
  },
  {
   "cell_type": "markdown",
   "id": "34f8ee2f",
   "metadata": {},
   "source": [
    "The object can be loaded back using `joblib.load`"
   ]
  },
  {
   "cell_type": "code",
   "execution_count": null,
   "id": "c66925ba",
   "metadata": {},
   "outputs": [],
   "source": [
    "aussie_rain2=joblib.load('aussie_rain.joblib')"
   ]
  },
  {
   "cell_type": "markdown",
   "id": "a9522415",
   "metadata": {},
   "source": [
    "Let's use the loaded model to make predictions on the original test set."
   ]
  },
  {
   "cell_type": "code",
   "execution_count": null,
   "id": "7368b00e",
   "metadata": {},
   "outputs": [],
   "source": [
    "test_preds2 = aussie_rain2['model'].predict(X_test)\n",
    "accuracy_score(test_targets, test_preds2)"
   ]
  },
  {
   "cell_type": "markdown",
   "id": "0f37a5d4",
   "metadata": {},
   "source": [
    "As expected, we get the same result as the original model."
   ]
  },
  {
   "cell_type": "markdown",
   "id": "90ea071f",
   "metadata": {},
   "source": [
    "## Putting it all Together\n",
    "\n",
    "While we've covered a lot of ground in this tutorial, the number of lines of code for processing the data and training the model is fairly small. Each step requires no more than 3-4 lines of code."
   ]
  },
  {
   "cell_type": "markdown",
   "id": "d31196ee",
   "metadata": {},
   "source": [
    "### Data Preprocessing"
   ]
  },
  {
   "cell_type": "code",
   "execution_count": null,
   "id": "e236cff0",
   "metadata": {},
   "outputs": [],
   "source": [
    "import opendatasets as od\n",
    "import pandas as pd\n",
    "import numpy as np\n",
    "from sklearn.impute import SimpleImputer\n",
    "from sklearn.preprocessing import MinMaxScaler, OneHotEncoder\n",
    "\n",
    "# Download the dataset\n",
    "od.download('https://www.kaggle.com/jsphyg/weather-dataset-rattle-package')\n",
    "raw_df = pd.read_csv('weather-dataset-rattle-package/weatherAUS.csv')\n",
    "raw_df.dropna(subset=['RainToday', 'RainTomorrow'], inplace=True)\n",
    "\n",
    "# Create training, validation and test sets\n",
    "year = pd.to_datetime(raw_df.Date).dt.year\n",
    "train_df, val_df, test_df = raw_df[year < 2015], raw_df[year == 2015], raw_df[year > 2015]\n",
    "\n",
    "# Create inputs and targets\n",
    "input_cols = list(train_df.columns)[1:-1]\n",
    "target_col = 'RainTomorrow'\n",
    "train_inputs, train_targets = train_df[input_cols].copy(), train_df[target_col].copy()\n",
    "val_inputs, val_targets = val_df[input_cols].copy(), val_df[target_col].copy()\n",
    "test_inputs, test_targets = test_df[input_cols].copy(), test_df[target_col].copy()\n",
    "\n",
    "# Identify numeric and categorical columns\n",
    "numeric_cols = train_inputs.select_dtypes(include=np.number).columns.tolist()[:-1]\n",
    "categorical_cols = train_inputs.select_dtypes('object').columns.tolist()\n",
    "\n",
    "# Impute missing numerical values\n",
    "imputer = SimpleImputer(strategy = 'mean').fit(raw_df[numeric_cols])\n",
    "train_inputs[numeric_cols] = imputer.transform(train_inputs[numeric_cols])\n",
    "val_inputs[numeric_cols] = imputer.transform(val_inputs[numeric_cols])\n",
    "test_inputs[numeric_cols] = imputer.transform(test_inputs[numeric_cols])\n",
    "\n",
    "# Scale numeric features\n",
    "scaler = MinMaxScaler().fit(raw_df[numeric_cols])\n",
    "train_inputs[numeric_cols] = scaler.transform(train_inputs[numeric_cols])\n",
    "val_inputs[numeric_cols] = scaler.transform(val_inputs[numeric_cols])\n",
    "test_inputs[numeric_cols] = scaler.transform(test_inputs[numeric_cols])\n",
    "\n",
    "# One-hot encode categorical features\n",
    "encoder = OneHotEncoder(sparse_output=False, handle_unknown='ignore').fit(raw_df[categorical_cols])\n",
    "encoded_cols = list(encoder.get_feature_names_out(categorical_cols))\n",
    "train_inputs[encoded_cols] = encoder.transform(train_inputs[categorical_cols])\n",
    "val_inputs[encoded_cols] = encoder.transform(val_inputs[categorical_cols])\n",
    "test_inputs[encoded_cols] = encoder.transform(test_inputs[categorical_cols])\n",
    "\n",
    "# Save processed data to disk\n",
    "train_inputs.to_parquet('train_inputs.parquet')\n",
    "val_inputs.to_parquet('val_inputs.parquet')\n",
    "test_inputs.to_parquet('test_inputs.parquet')\n",
    "pd.DataFrame(train_targets).to_parquet('train_targets.parquet')\n",
    "pd.DataFrame(val_targets).to_parquet('val_targets.parquet')\n",
    "pd.DataFrame(test_targets).to_parquet('test_targets.parquet')\n",
    "\n",
    "# Load processed data from disk\n",
    "train_inputs = pd.read_parquet('train_inputs.parquet')\n",
    "val_inputs = pd.read_parquet('val_inputs.parquet')\n",
    "test_inputs = pd.read_parquet('test_inputs.parquet')\n",
    "train_targets = pd.read_parquet('train_targets.parquet')[target_col]\n",
    "val_targets = pd.read_parquet('val_targets.parquet')[target_col]\n",
    "test_targets = pd.read_parquet('test_targets.parquet')[target_col]"
   ]
  },
  {
   "cell_type": "markdown",
   "id": "d222bf41",
   "metadata": {},
   "source": [
    "### Model Training and Evaluation"
   ]
  },
  {
   "cell_type": "code",
   "execution_count": null,
   "id": "f382b411",
   "metadata": {},
   "outputs": [],
   "source": [
    "from sklearn.linear_model import LogisticRegression\n",
    "from sklearn.metrics import accuracy_score\n",
    "import joblib\n",
    "\n",
    "# Select the columns to be used for training/prediction\n",
    "X_train = train_inputs[numeric_cols + encoded_cols]\n",
    "X_val = val_inputs[numeric_cols + encoded_cols]\n",
    "X_test = test_inputs[numeric_cols + encoded_cols]\n",
    "\n",
    "# Create and train the model\n",
    "model = LogisticRegression(solver='liblinear')\n",
    "model.fit(X_train, train_targets)\n",
    "\n",
    "# Generate predictions and probabilities\n",
    "train_preds = model.predict(X_train)\n",
    "train_probs = model.predict_proba(X_train)\n",
    "accuracy_score(train_targets, train_preds)\n",
    "\n",
    "# Helper function to predict, compute accuracy & plot confustion matrix\n",
    "def predict_and_plot(inputs, targets, name=''):\n",
    "    preds = model.predict(inputs)\n",
    "    accuracy = accuracy_score(targets, preds)\n",
    "    print(\"Accuracy: {:.2f}%\".format(accuracy * 100))\n",
    "    cf = confusion_matrix(targets, preds, normalize='true')\n",
    "    plt.figure()\n",
    "    sns.heatmap(cf, annot=True)\n",
    "    plt.xlabel('Prediction')\n",
    "    plt.ylabel('Target')\n",
    "    plt.title('{} Confusion Matrix'.format(name));    \n",
    "    return preds\n",
    "\n",
    "# Evaluate on validation and test set\n",
    "val_preds = predict_and_plot(X_val, val_targets, 'Validation')\n",
    "test_preds = predict_and_plot(X_test, test_targets, 'Test')\n",
    "\n",
    "# Save the trained model & load it back\n",
    "aussie_rain = {'model': model, 'imputer': imputer, 'scaler': scaler, 'encoder': encoder,\n",
    "               'input_cols': input_cols, 'target_col': target_col, 'numeric_cols': numeric_cols,\n",
    "               'categorical_cols': categorical_cols, 'encoded_cols': encoded_cols}\n",
    "joblib.dump(aussie_rain, 'aussie_rain.joblib')\n",
    "aussie_rain2 = joblib.load('aussie_rain.joblib')"
   ]
  },
  {
   "cell_type": "markdown",
   "id": "7513e577",
   "metadata": {},
   "source": [
    "### Prediction on Single Inputs "
   ]
  },
  {
   "cell_type": "code",
   "execution_count": null,
   "id": "c8f0ae03",
   "metadata": {},
   "outputs": [],
   "source": [
    "def predict_input(single_input):\n",
    "    input_df = pd.DataFrame([single_input])\n",
    "    input_df[numeric_cols] = imputer.transform(input_df[numeric_cols])\n",
    "    input_df[numeric_cols] = scaler.transform(input_df[numeric_cols])\n",
    "    input_df[encoded_cols] = encoder.transform(input_df[categorical_cols])\n",
    "    X_input = input_df[numeric_cols + encoded_cols]\n",
    "    pred = model.predict(X_input)[0]\n",
    "    prob = model.predict_proba(X_input)[0][list(model.classes_).index(pred)]\n",
    "    return pred, prob\n",
    "\n",
    "new_input = {'Date': '2021-06-19',\n",
    "             'Location': 'Launceston',\n",
    "             'MinTemp': 23.2,\n",
    "             'MaxTemp': 33.2,\n",
    "             'Rainfall': 10.2,\n",
    "             'Evaporation': 4.2,\n",
    "             'Sunshine': np.nan,\n",
    "             'WindGustDir': 'NNW',\n",
    "             'WindGustSpeed': 52.0,\n",
    "             'WindDir9am': 'NW',\n",
    "             'WindDir3pm': 'NNE',\n",
    "             'WindSpeed9am': 13.0,\n",
    "             'WindSpeed3pm': 20.0,\n",
    "             'Humidity9am': 89.0,\n",
    "             'Humidity3pm': 58.0,\n",
    "             'Pressure9am': 1004.8,\n",
    "             'Pressure3pm': 1001.5,\n",
    "             'Cloud9am': 8.0,\n",
    "             'Cloud3pm': 5.0,\n",
    "             'Temp9am': 25.7,\n",
    "             'Temp3pm': 33.0,\n",
    "             'RainToday': 'Yes'}\n",
    "\n",
    "predict_input(new_input)"
   ]
  }
 ],
 "metadata": {
  "kernelspec": {
   "display_name": "jskre",
   "language": "python",
   "name": "python3"
  },
  "language_info": {
   "codemirror_mode": {
    "name": "ipython",
    "version": 3
   },
   "file_extension": ".py",
   "mimetype": "text/x-python",
   "name": "python",
   "nbconvert_exporter": "python",
   "pygments_lexer": "ipython3",
   "version": "3.12.3"
  }
 },
 "nbformat": 4,
 "nbformat_minor": 5
}
